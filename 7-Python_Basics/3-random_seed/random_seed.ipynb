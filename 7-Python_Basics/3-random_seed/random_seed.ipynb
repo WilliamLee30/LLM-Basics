{
 "cells": [
  {
   "cell_type": "markdown",
   "metadata": {},
   "source": [
    "# 1.Seed介绍"
   ]
  },
  {
   "cell_type": "markdown",
   "metadata": {},
   "source": [
    "## 1.1 概念\n",
    "seed是python中随机数生成器的固定开始点（fixed starting point），用于初始化一个伪随机数生成器（pseudo-random number generator）"
   ]
  },
  {
   "cell_type": "markdown",
   "metadata": {},
   "source": [
    "## 1.2 作用\n",
    "通过设置随机种子，可以使得随机数生成器每次生成的随机数序列都是一样的。主要是用于可复现实现的场景中。"
   ]
  },
  {
   "cell_type": "markdown",
   "metadata": {
    "vscode": {
     "languageId": "plaintext"
    }
   },
   "source": [
    "## 1.3 Seed的作用原理\n",
    "![](./images/Seed的作用原理.jpg)"
   ]
  },
  {
   "cell_type": "markdown",
   "metadata": {},
   "source": [
    "## 1.4 用法\n",
    "1.不同的库有不同的伪随机数生成器（PRNG），在不同库的PRNG中设置的seed互相之间互不影响。<br>\n",
    "\n",
    "2.注意：<br>\n",
    "（1）设置随机种子seed之后，使得随机数的生成并不是真随机，而是变得deterministic。<br>\n",
    "（2）Seed的数值设置是随意设置的，常用的设置是42，because it was humorously described as “the answer to life, the universe, and everything” in The Hitchhiker’s Guide to the Galaxy.。<br>"
   ]
  },
  {
   "cell_type": "code",
   "execution_count": null,
   "metadata": {},
   "outputs": [
    {
     "name": "stdout",
     "output_type": "stream",
     "text": [
      "0.6394267984578837\n",
      "[0.37454012 0.95071431 0.73199394]\n",
      "tensor([0.8823, 0.9150, 0.3829])\n"
     ]
    }
   ],
   "source": [
    "# 1. random库\n",
    "import random \n",
    "\n",
    "random.seed(42)\n",
    "print(random.random())\n",
    "\n",
    "# 2. numpy.random库\n",
    "import numpy as np\n",
    "\n",
    "np.random.seed(42)\n",
    "print(np.random.rand(3))\n",
    "\n",
    "# 3. torch.manual_seed()函数\n",
    "import torch\n",
    "\n",
    "torch.manual_seed(42)\n",
    "print(torch.rand(3))\n",
    "\n",
    "## 3.1 如果使用了GPU，还需要进行以下设置\n",
    "torch.cuda.manual_seed(42)\n",
    "torch.backends.cudnn.deterministic = True\n",
    "\n",
    "# 4.tensorflow.random.set_seed()函数\n",
    "import tensorflow as tf\n",
    "\n",
    "tf.random.set_seed(42)\n",
    "print(tf.random.uniform((3, ) ))"
   ]
  }
 ],
 "metadata": {
  "kernelspec": {
   "display_name": "pytorch",
   "language": "python",
   "name": "python3"
  },
  "language_info": {
   "codemirror_mode": {
    "name": "ipython",
    "version": 3
   },
   "file_extension": ".py",
   "mimetype": "text/x-python",
   "name": "python",
   "nbconvert_exporter": "python",
   "pygments_lexer": "ipython3",
   "version": "3.9.19"
  }
 },
 "nbformat": 4,
 "nbformat_minor": 2
}
