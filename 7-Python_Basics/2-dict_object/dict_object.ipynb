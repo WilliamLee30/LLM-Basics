{
 "cells": [
  {
   "cell_type": "markdown",
   "metadata": {},
   "source": [
    "# Python 字典常用的函数和属性"
   ]
  },
  {
   "cell_type": "markdown",
   "metadata": {},
   "source": [
    "![](./images/字典对象常用的函数.png)\n",
    "![](./images/字典对象常用的属性.png)"
   ]
  },
  {
   "cell_type": "code",
   "execution_count": 6,
   "metadata": {},
   "outputs": [
    {
     "name": "stdout",
     "output_type": "stream",
     "text": [
      "Alice\n",
      "Unknown\n",
      "====================\n",
      "name Alice\n",
      "age 25\n",
      "====================\n",
      "name\n",
      "age\n",
      "====================\n",
      "Alice\n",
      "25\n",
      "====================\n",
      "25\n",
      "{'name': 'Alice'}\n",
      "====================\n",
      "('gender', 'woman')\n",
      "{'name': 'Alice', 'age': 25}\n",
      "====================\n",
      "{'name': 'Alice', 'age': 26, 'gender': 'woman', 'country': 'china'}\n",
      "====================\n"
     ]
    }
   ],
   "source": [
    "'''1. 常用的函数'''\n",
    "my_dict = {'name': 'Alice', 'age': 25}\n",
    "\n",
    "# 1. get()\n",
    "print(my_dict.get('name'))\n",
    "print(my_dict.get('city', 'Unknown'))\n",
    "print('='*20)\n",
    "\n",
    "# 2. items()\n",
    "for key, value in my_dict.items():\n",
    "    print(key, value)\n",
    "print('='*20)\n",
    "\n",
    "# 3. keys()\n",
    "for key in my_dict.keys():\n",
    "    print(key)\n",
    "print('='*20)\n",
    "# 4. values()\n",
    "for value in my_dict.values():\n",
    "    print(value)\n",
    "print('='*20)\n",
    "# 5. pop()\n",
    "age = my_dict.pop('age')\n",
    "print(age)\n",
    "print(my_dict)\n",
    "print('='*20)\n",
    "# 6. popitem()\n",
    "my_dict = {'name': 'Alice', 'age': 25, 'gender': 'woman'}\n",
    "item = my_dict.popitem()\n",
    "print(item)\n",
    "print(my_dict)\n",
    "print('='*20)\n",
    "# 7. update()\n",
    "my_dict = {'name': 'Alice', 'age': 25, 'gender': 'woman'}\n",
    "new_data = {'country': 'china', 'age': 26, 'gender': 'woman'}\n",
    "my_dict.update(new_data)\n",
    "print(my_dict)\n",
    "print('='*20)"
   ]
  }
 ],
 "metadata": {
  "kernelspec": {
   "display_name": "d2l",
   "language": "python",
   "name": "python3"
  },
  "language_info": {
   "codemirror_mode": {
    "name": "ipython",
    "version": 3
   },
   "file_extension": ".py",
   "mimetype": "text/x-python",
   "name": "python",
   "nbconvert_exporter": "python",
   "pygments_lexer": "ipython3",
   "version": "3.9.21"
  }
 },
 "nbformat": 4,
 "nbformat_minor": 2
}
