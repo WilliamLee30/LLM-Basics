{
 "cells": [
  {
   "cell_type": "code",
   "execution_count": 1,
   "metadata": {},
   "outputs": [],
   "source": [
    "import json"
   ]
  },
  {
   "cell_type": "markdown",
   "metadata": {},
   "source": [
    "# 1.JSON 和 python 中数据类型的对应关系\n",
    "![](./images/数据类型对应关系.png)"
   ]
  },
  {
   "cell_type": "code",
   "execution_count": null,
   "metadata": {},
   "outputs": [
    {
     "name": "stdout",
     "output_type": "stream",
     "text": [
      "{\"name\": \"John\", \"age\": 30, \"city\": \"New York\"}\n",
      "{\n",
      "    \"age\": 30,\n",
      "    \"city\": \"New York\",\n",
      "    \"name\": \"John\"\n",
      "}\n"
     ]
    }
   ],
   "source": [
    "'''Serialization: 将Python对象转换为JSON'''\n",
    "# 1. dumps()：将Python对象转换为JSON格式的string\n",
    "data = {\n",
    "    \"name\": \"John\",\n",
    "    \"age\": 30,\n",
    "    \"city\": \"New York\"\n",
    "}\n",
    "\n",
    "json_string = json.dumps(data)\n",
    "print(json_string)\n",
    "\n",
    "json_string = json.dumps(data, indent = 4, sort_keys = True) #格式化 = 排序输出\n",
    "print(json_string)"
   ]
  },
  {
   "cell_type": "code",
   "execution_count": 6,
   "metadata": {},
   "outputs": [],
   "source": [
    "# 2. dump():将Python对象转换为一个文件对象\n",
    "data = {\n",
    "    \"name\": \"John\",\n",
    "    \"age\": 30,\n",
    "    \"city\": \"New York\"\n",
    "}\n",
    "\n",
    "with open('data_1.json', 'w') as file:\n",
    "    json.dump(data, file) #没有美化和缩进\n",
    "\n",
    "with open('data_2.json', 'w') as file:\n",
    "    json.dump(data, file, indent = 4) "
   ]
  },
  {
   "cell_type": "code",
   "execution_count": 7,
   "metadata": {},
   "outputs": [
    {
     "name": "stdout",
     "output_type": "stream",
     "text": [
      "{'name': 'John', 'age': 30, 'city': 'New York'}\n",
      "<class 'dict'>\n"
     ]
    }
   ],
   "source": [
    "'''Deserialization: 将JSON转换为Python对象'''\n",
    "# 1. loads():将JSON格式的string转换为Python对象\n",
    "json_string = '{\"name\": \"John\", \"age\": 30, \"city\": \"New York\"}'\n",
    "\n",
    "data = json.loads(json_string)\n",
    "print(data)\n",
    "print(type(data))"
   ]
  },
  {
   "cell_type": "code",
   "execution_count": 10,
   "metadata": {},
   "outputs": [
    {
     "name": "stdout",
     "output_type": "stream",
     "text": [
      "{'name': 'John', 'age': 30, 'city': 'New York'}\n",
      "<class 'dict'>\n",
      "{'name': 'John', 'age': 30, 'city': 'New York'}\n",
      "<class 'dict'>\n"
     ]
    }
   ],
   "source": [
    "# 2. load():将文件对象的JSON数据转换为python对象\n",
    "with open('data_1.json', 'r') as file:\n",
    "    data_1 = json.load(file)\n",
    "\n",
    "with open('data_2.json', 'r') as file:\n",
    "    data_2 = json.load(file)\n",
    "\n",
    "print(data_1)\n",
    "print(type(data_1))\n",
    "\n",
    "print(data_2)\n",
    "print(type(data_2))"
   ]
  }
 ],
 "metadata": {
  "kernelspec": {
   "display_name": "d2l",
   "language": "python",
   "name": "python3"
  },
  "language_info": {
   "codemirror_mode": {
    "name": "ipython",
    "version": 3
   },
   "file_extension": ".py",
   "mimetype": "text/x-python",
   "name": "python",
   "nbconvert_exporter": "python",
   "pygments_lexer": "ipython3",
   "version": "3.9.21"
  }
 },
 "nbformat": 4,
 "nbformat_minor": 2
}
