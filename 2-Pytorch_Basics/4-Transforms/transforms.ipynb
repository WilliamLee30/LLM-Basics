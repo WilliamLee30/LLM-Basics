{
 "cells": [
  {
   "cell_type": "code",
   "execution_count": null,
   "metadata": {},
   "outputs": [],
   "source": [
    "import torch\n",
    "from torchvision import datasets\n",
    "from torchvision.transforms import ToTensor, Lambda\n",
    "# Note:\n",
    "# 所有torchvision datasts都有两个参数：\n",
    "# （1）transform:用于修改feature\n",
    "# （2）target_transform:用于修改标签"
   ]
  },
  {
   "cell_type": "code",
   "execution_count": null,
   "metadata": {},
   "outputs": [],
   "source": [
    "da = datasets.FashionMNIST(\n",
    "    root = \"data\",\n",
    "    train = True,\n",
    "    download = True,\n",
    "    transform = ToTensor(),\n",
    "    target_transform = Lambda(lambda y: torch.zerors(\n",
    "        10, dtype = torch.float).scatter_(dim = 0, index = torch.tensor(y), value = 1))\n",
    ")"
   ]
  },
  {
   "cell_type": "markdown",
   "metadata": {},
   "source": [
    "# 1. Lambda函数\n",
    "## 1.1 定义\n",
    "也叫匿名函数，可以接受多个输入，但是返回只有一个，并且返回的expression中不能有循环、print()或者return。通常与map()， filter（），sorted()函数配合使用。<br>\n",
    "## 1.2 语法\n",
    "```python\n",
    "    lambda arguments: expression\n",
    "```"
   ]
  },
  {
   "cell_type": "markdown",
   "metadata": {},
   "source": [
    "# 1. Transforms常用的函数\n",
    "## 1.1 几何变换\n",
    "![](./images/transforms常用函数_几何变换.jpg)\n",
    "## 1.2 像素级变换\n",
    "![](./images/transforms常用函数_像素级.jpg)\n",
    "## 1.3 颜色和风格\n",
    "![](./images/transforms常用函数_颜色和风格.jpg)"
   ]
  },
  {
   "cell_type": "code",
   "execution_count": null,
   "metadata": {},
   "outputs": [],
   "source": [
    "from torchvision.transforms import transforms\n",
    "# 通常会使用transforms.Compose()函数将多个变换操作整合在一起，并且按顺序执行。\n",
    "\n",
    "transform = transforms.Compose([\n",
    "    transforms.Resize((256, 256)),\n",
    "    transforms.RandomHorizontalFlip(),\n",
    "    transforms.RandomRotation(30),\n",
    "    transforms.ToTensor(),\n",
    "    transforms.Normalize([0.5], [0.5])\n",
    "])\n",
    "\n",
    "transformde_image = transform(img)"
   ]
  }
 ],
 "metadata": {
  "kernelspec": {
   "display_name": "pytorch",
   "language": "python",
   "name": "python3"
  },
  "language_info": {
   "codemirror_mode": {
    "name": "ipython",
    "version": 3
   },
   "file_extension": ".py",
   "mimetype": "text/x-python",
   "name": "python",
   "nbconvert_exporter": "python",
   "pygments_lexer": "ipython3",
   "version": "3.9.19"
  }
 },
 "nbformat": 4,
 "nbformat_minor": 2
}
