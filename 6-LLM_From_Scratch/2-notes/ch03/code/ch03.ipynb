{
 "cells": [
  {
   "cell_type": "markdown",
   "id": "08012f7f",
   "metadata": {},
   "source": [
    "# 1.不包含可训练权重的简化版自注意力机制 "
   ]
  },
  {
   "cell_type": "code",
   "execution_count": 2,
   "id": "9c3da840",
   "metadata": {},
   "outputs": [],
   "source": [
    "import torch\n",
    "\n",
    "inputs = torch.tensor(\n",
    "  [[0.43, 0.15, 0.89], # Your     (x^1)\n",
    "   [0.55, 0.87, 0.66], # journey  (x^2)\n",
    "   [0.57, 0.85, 0.64], # starts   (x^3)\n",
    "   [0.22, 0.58, 0.33], # with     (x^4)\n",
    "   [0.77, 0.25, 0.10], # one      (x^5)\n",
    "   [0.05, 0.80, 0.55]] # step     (x^6)\n",
    ")"
   ]
  },
  {
   "cell_type": "markdown",
   "id": "3a2da739",
   "metadata": {},
   "source": [
    "## 1.1 以计算inputs中\"journey\"的context vector为例"
   ]
  },
  {
   "cell_type": "code",
   "execution_count": null,
   "id": "c70e9e3e",
   "metadata": {},
   "outputs": [
    {
     "name": "stdout",
     "output_type": "stream",
     "text": [
      "tensor([0.9544, 1.4950, 1.4754, 0.8434, 0.7070, 1.0865])\n",
      "tensor([0.9544, 1.4950, 1.4754, 0.8434, 0.7070, 1.0865])\n"
     ]
    }
   ],
   "source": [
    "'''Step1: Get the attention scores'''\n",
    "query = inputs[1] #这里的query就是Transformers里面的query，就是当前待计算context vector的元素的embedding vector\n",
    "\n",
    "attn_scores_1 = torch.matmul(query, inputs.T) #这里因为是将一个形状为(1,3)的向量与形状为(6,3)的矩阵相乘，所以需要对矩阵进行转置操作\n",
    "\n",
    "attn_scores_2 = torch.empty(inputs.shape[0])\n",
    "for i, x_i in enumerate(inputs):\n",
    "    attn_scores_2[i] = torch.dot(x_i, query) #这里现在进行点积的是两个一维向量，就不用进行转置操作\n",
    "\n",
    "print(attn_scores_1)\n",
    "print(attn_scores_2)"
   ]
  },
  {
   "cell_type": "code",
   "execution_count": 6,
   "id": "d7271d61",
   "metadata": {},
   "outputs": [
    {
     "name": "stdout",
     "output_type": "stream",
     "text": [
      "tensor(0.9544)\n",
      "tensor(0.9544)\n"
     ]
    }
   ],
   "source": [
    "'''Simulate the dot product operation'''\n",
    "res = 0\n",
    "\n",
    "for idx, element in enumerate(inputs[0]):\n",
    "    res += inputs[0][idx] * query[idx]\n",
    "\n",
    "print(res)\n",
    "print(torch.dot(inputs[0], query))"
   ]
  },
  {
   "cell_type": "code",
   "execution_count": 10,
   "id": "e5256e08",
   "metadata": {},
   "outputs": [
    {
     "name": "stdout",
     "output_type": "stream",
     "text": [
      "tensor([0.1455, 0.2278, 0.2249, 0.1285, 0.1077, 0.1656])\n",
      "tensor(1.0000)\n",
      "tensor([0.1385, 0.2379, 0.2333, 0.1240, 0.1082, 0.1581])\n",
      "tensor(1.)\n",
      "tensor([0.1385, 0.2379, 0.2333, 0.1240, 0.1082, 0.1581])\n",
      "tensor(1.)\n"
     ]
    }
   ],
   "source": [
    "'''Step 2: Normaliza the attention scores to get the final attention weights'''\n",
    "#1.A simple way\n",
    "attn_weights_2_tmp = attn_scores_2  / attn_scores_2.sum()\n",
    "print(attn_weights_2_tmp)\n",
    "print(attn_weights_2_tmp.sum())\n",
    "\n",
    "#2.Using softmax function \n",
    "# Using self-implemented softmax function\n",
    "def softmax_naive(x):\n",
    "    return torch.exp(x) / torch.exp(x).sum(dim = 0)\n",
    "\n",
    "attn_weights_2_naive = softmax_naive(attn_scores_2)\n",
    "print(attn_weights_2_naive)\n",
    "print(attn_weights_2_naive.sum())\n",
    "\n",
    "# Using torch.softmax()\n",
    "attn_weights_2 = torch.softmax(attn_scores_2, dim = 0)\n",
    "print(attn_weights_2)\n",
    "print(attn_weights_2.sum())"
   ]
  },
  {
   "cell_type": "code",
   "execution_count": 11,
   "id": "634d84e0",
   "metadata": {},
   "outputs": [
    {
     "name": "stdout",
     "output_type": "stream",
     "text": [
      "tensor([0.4419, 0.6515, 0.5683])\n"
     ]
    }
   ],
   "source": [
    "'''Step 3: Comput the context vector '''\n",
    "query = inputs[1]\n",
    "\n",
    "context_vec_2 = torch.zeros(query.shape) #因为context vector的shape和token embedding vector是一样的\n",
    "for i, x_i in enumerate(inputs):\n",
    "    context_vec_2 += attn_weights_2[i] * x_i #就是将序列中每个token的注意力权重乘以它的embedding vector，然后再相加\n",
    "\n",
    "print(context_vec_2)"
   ]
  },
  {
   "cell_type": "markdown",
   "id": "8e855cf3",
   "metadata": {},
   "source": [
    "## 1.2 计算输入序列中所有tokens的context vector"
   ]
  },
  {
   "cell_type": "code",
   "execution_count": null,
   "id": "09b8b60f",
   "metadata": {},
   "outputs": [
    {
     "name": "stdout",
     "output_type": "stream",
     "text": [
      "tensor([[0.9995, 0.9544, 0.9422, 0.4753, 0.4576, 0.6310],\n",
      "        [0.9544, 1.4950, 1.4754, 0.8434, 0.7070, 1.0865],\n",
      "        [0.9422, 1.4754, 1.4570, 0.8296, 0.7154, 1.0605],\n",
      "        [0.4753, 0.8434, 0.8296, 0.4937, 0.3474, 0.6565],\n",
      "        [0.4576, 0.7070, 0.7154, 0.3474, 0.6654, 0.2935],\n",
      "        [0.6310, 1.0865, 1.0605, 0.6565, 0.2935, 0.9450]])\n",
      "tensor([[0.9995, 0.9544, 0.9422, 0.4753, 0.4576, 0.6310],\n",
      "        [0.9544, 1.4950, 1.4754, 0.8434, 0.7070, 1.0865],\n",
      "        [0.9422, 1.4754, 1.4570, 0.8296, 0.7154, 1.0605],\n",
      "        [0.4753, 0.8434, 0.8296, 0.4937, 0.3474, 0.6565],\n",
      "        [0.4576, 0.7070, 0.7154, 0.3474, 0.6654, 0.2935],\n",
      "        [0.6310, 1.0865, 1.0605, 0.6565, 0.2935, 0.9450]])\n",
      "tensor([[0.9995, 0.9544, 0.9422, 0.4753, 0.4576, 0.6310],\n",
      "        [0.9544, 1.4950, 1.4754, 0.8434, 0.7070, 1.0865],\n",
      "        [0.9422, 1.4754, 1.4570, 0.8296, 0.7154, 1.0605],\n",
      "        [0.4753, 0.8434, 0.8296, 0.4937, 0.3474, 0.6565],\n",
      "        [0.4576, 0.7070, 0.7154, 0.3474, 0.6654, 0.2935],\n",
      "        [0.6310, 1.0865, 1.0605, 0.6565, 0.2935, 0.9450]])\n"
     ]
    }
   ],
   "source": [
    "'''1. Compute the un-normalized attention scores'''\n",
    "attn_scores = torch.empty(inputs.shape[0], inputs.shape[0]) #这里之所以是inputs.shape[0]的原因是，对于每一个token，都要计算和其他所有token之间的注意力分数，而总的tokens的数量就是inputs.shape[0]，\n",
    "# 也就是max_length的大小，输入序列越长，注意力分数的矩阵就越大，而且是二次方的增长关系，shape是max_length * max_length\n",
    "\n",
    "#（1）使用循环的方式计算：速度慢，计算复杂度是O(n^2):\n",
    "for i, x_i in enumerate(inputs):\n",
    "    for j, x_j in enumerate(inputs):\n",
    "        attn_scores[i, j] = torch.dot(x_i, x_j)\n",
    "print(attn_scores)\n",
    "\n",
    "# (2) 使用矩阵相乘的方式计算：速度快\n",
    "attn_scores = inputs @ inputs.T # @ 符号代表矩阵相乘的意思\n",
    "print(attn_scores)\n",
    "\n",
    "attn_scores = torch.matmul(inputs, inputs.T) #将inputs转置的根本原因是，\n",
    "# 转置之后就能实现inputs中的每一行作为query，能够与inputs.T中的每一列相乘，作点积运算，得到最终的注意力分数结果矩阵\n",
    "print(attn_scores)"
   ]
  },
  {
   "cell_type": "code",
   "execution_count": null,
   "id": "9a396881",
   "metadata": {},
   "outputs": [
    {
     "name": "stdout",
     "output_type": "stream",
     "text": [
      "tensor([[0.2098, 0.2006, 0.1981, 0.1242, 0.1220, 0.1452],\n",
      "        [0.1385, 0.2379, 0.2333, 0.1240, 0.1082, 0.1581],\n",
      "        [0.1390, 0.2369, 0.2326, 0.1242, 0.1108, 0.1565],\n",
      "        [0.1435, 0.2074, 0.2046, 0.1462, 0.1263, 0.1720],\n",
      "        [0.1526, 0.1958, 0.1975, 0.1367, 0.1879, 0.1295],\n",
      "        [0.1385, 0.2184, 0.2128, 0.1420, 0.0988, 0.1896]])\n",
      "tensor([1.0000, 1.0000, 1.0000, 1.0000, 1.0000, 1.0000])\n"
     ]
    }
   ],
   "source": [
    "'''2. Apply normalization using softmax function'''\n",
    "attn_weights = torch.softmax(attn_scores, dim = 1) # dim = 1是因为需要在列上进行计算\n",
    "print(attn_weights)\n",
    "\n",
    "print(attn_weights.sum(1)) #说明归一化成功了"
   ]
  },
  {
   "cell_type": "code",
   "execution_count": null,
   "id": "21b32e0a",
   "metadata": {},
   "outputs": [
    {
     "name": "stdout",
     "output_type": "stream",
     "text": [
      "tensor([[0.4421, 0.5931, 0.5790],\n",
      "        [0.4419, 0.6515, 0.5683],\n",
      "        [0.4431, 0.6496, 0.5671],\n",
      "        [0.4304, 0.6298, 0.5510],\n",
      "        [0.4671, 0.5910, 0.5266],\n",
      "        [0.4177, 0.6503, 0.5645]])\n",
      "tensor([0.4419, 0.6515, 0.5683])\n",
      "tensor([0.4419, 0.6515, 0.5683])\n"
     ]
    }
   ],
   "source": [
    "'''3. Comput the final context vector'''\n",
    "all_context_vec = attn_weights @ inputs #这里不进行转置的原因是需要将attn_weights中的每一行的query的注意力权重，\n",
    "# 分别乘到所有的token的embedding vector上，因此就不用转置了。\n",
    "print(all_context_vec)\n",
    "\n",
    "print(all_context_vec[1])\n",
    "print(context_vec_2)"
   ]
  },
  {
   "cell_type": "markdown",
   "id": "d5d98791",
   "metadata": {},
   "source": [
    "1.计算Context_vector过程的手动推导：\n",
    "![](./images/计算上下文向量的过程推导.jpg)"
   ]
  },
  {
   "cell_type": "markdown",
   "id": "781dcf59",
   "metadata": {},
   "source": [
    "# 2.包含训练权重的自注意力机制"
   ]
  },
  {
   "cell_type": "code",
   "execution_count": 1,
   "id": "5edba0c7",
   "metadata": {},
   "outputs": [],
   "source": [
    "import torch\n",
    "\n",
    "inputs = torch.tensor(\n",
    "  [[0.43, 0.15, 0.89], # Your     (x^1)\n",
    "   [0.55, 0.87, 0.66], # journey  (x^2)\n",
    "   [0.57, 0.85, 0.64], # starts   (x^3)\n",
    "   [0.22, 0.58, 0.33], # with     (x^4)\n",
    "   [0.77, 0.25, 0.10], # one      (x^5)\n",
    "   [0.05, 0.80, 0.55]] # step     (x^6)\n",
    ")"
   ]
  },
  {
   "cell_type": "markdown",
   "id": "62201a80",
   "metadata": {},
   "source": [
    "## 2.1 这里以计算“journey”的context vector为例"
   ]
  },
  {
   "cell_type": "code",
   "execution_count": null,
   "id": "fd2b3dbe",
   "metadata": {},
   "outputs": [
    {
     "name": "stdout",
     "output_type": "stream",
     "text": [
      "tensor([0.5500, 0.8700, 0.6600])\n",
      "Parameter containing:\n",
      "tensor([[0.2961, 0.5166],\n",
      "        [0.2517, 0.6886],\n",
      "        [0.0740, 0.8665]])\n",
      "Parameter containing:\n",
      "tensor([[0.1366, 0.1025],\n",
      "        [0.1841, 0.7264],\n",
      "        [0.3153, 0.6871]])\n",
      "Parameter containing:\n",
      "tensor([[0.0756, 0.1966],\n",
      "        [0.3164, 0.4017],\n",
      "        [0.1186, 0.8274]])\n",
      "tensor([0.4306, 1.4551])\n",
      "tensor([0.4433, 1.1419])\n",
      "tensor([0.3951, 1.0037])\n",
      "torch.Size([6, 3])\n",
      "tensor([[0.4300, 0.1500, 0.8900],\n",
      "        [0.5500, 0.8700, 0.6600],\n",
      "        [0.5700, 0.8500, 0.6400],\n",
      "        [0.2200, 0.5800, 0.3300],\n",
      "        [0.7700, 0.2500, 0.1000],\n",
      "        [0.0500, 0.8000, 0.5500]])\n",
      "tensor([[0.2309, 1.0966],\n",
      "        [0.4306, 1.4551],\n",
      "        [0.4300, 1.4343],\n",
      "        [0.2355, 0.7990],\n",
      "        [0.2983, 0.6565],\n",
      "        [0.2568, 1.0533]])\n",
      "tensor([[0.3669, 0.7646],\n",
      "        [0.4433, 1.1419],\n",
      "        [0.4361, 1.1156],\n",
      "        [0.2408, 0.6706],\n",
      "        [0.1827, 0.3292],\n",
      "        [0.3275, 0.9642]])\n",
      "tensor([[0.1855, 0.8812],\n",
      "        [0.3951, 1.0037],\n",
      "        [0.3879, 0.9831],\n",
      "        [0.2393, 0.5493],\n",
      "        [0.1492, 0.3346],\n",
      "        [0.3221, 0.7863]])\n"
     ]
    }
   ],
   "source": [
    "'''Step 1: Initialize the trainable weight matrix and get the querys, keys, values'''\n",
    "# 1. 初始化可训练权重矩阵\n",
    "x_2 = inputs[1]\n",
    "d_in = inputs.shape[1] # the embedding size of the input token\n",
    "d_out = 2 # 映射得到的可训练权重矩阵的embedding size，在LLM中，通常d_in = d_ou，这里是故意不一样的\n",
    "\n",
    "print(x_2)\n",
    "\n",
    "torch.manual_seed(123)\n",
    "W_query = torch.nn.Parameter(torch.rand(d_in, d_out), requires_grad = False)\n",
    "W_key = torch.nn.Parameter(torch.rand(d_in, d_out), requires_grad = False)\n",
    "W_value = torch.nn.Parameter(torch.rand(d_in, d_out), requires_grad = False)\n",
    "# Note：这里是为展示，所以禁用了梯度计算，但是实际训练过程中，需要设置为True的\n",
    "print(W_query)\n",
    "print(W_key)\n",
    "print(W_value)\n",
    "\n",
    "# 2.计算投影后的querys， keys， values\n",
    "# （1）“journey”的结果：\n",
    "query_2 = x_2 @ W_query\n",
    "key_2 = x_2 @ W_key\n",
    "value_2 = x_2 @ W_value\n",
    "\n",
    "print(query_2)\n",
    "print(key_2)\n",
    "print(value_2)\n",
    "\n",
    "# (2) 对于所有输入序列中的tokens计算\n",
    "print(inputs.shape)\n",
    "print(inputs)\n",
    "\n",
    "querys = inputs @ W_query\n",
    "keys = inputs @ W_key\n",
    "values = inputs @ W_value\n",
    "\n",
    "print(querys)\n",
    "print(keys)\n",
    "print(values)\n",
    "# 从输出的结果中可以看到对全部的tokens的结果中第2行的结果，与上面journey的结果一致，说明方法是对的"
   ]
  },
  {
   "cell_type": "code",
   "execution_count": null,
   "id": "ba398f7a",
   "metadata": {},
   "outputs": [
    {
     "name": "stdout",
     "output_type": "stream",
     "text": [
      "tensor(1.8524)\n",
      "tensor([1.2705, 1.8524, 1.8111, 1.0795, 0.5577, 1.5440])\n",
      "tensor([[0.9231, 1.3545, 1.3241, 0.7910, 0.4032, 1.1330],\n",
      "        [1.2705, 1.8524, 1.8111, 1.0795, 0.5577, 1.5440],\n",
      "        [1.2544, 1.8284, 1.7877, 1.0654, 0.5508, 1.5238],\n",
      "        [0.6973, 1.0167, 0.9941, 0.5925, 0.3061, 0.8475],\n",
      "        [0.6114, 0.8819, 0.8626, 0.5121, 0.2707, 0.7307],\n",
      "        [0.8995, 1.3165, 1.2871, 0.7682, 0.3937, 1.0996]])\n"
     ]
    }
   ],
   "source": [
    "'''Step 2: 计算非归一化的注意力分数'''\n",
    "# 1. 仅计算 journey 对于自身的注意力分数结果\n",
    "keys_2 = keys[1]\n",
    "attn_scores_22 = query_2.dot(keys_2) #都是一维向量，就不用转置了\n",
    "# attn_scores_22 = torch.dot(query_2, keys_2) #结果和上面一行计算出来的一样\n",
    "print(attn_scores_22)\n",
    "\n",
    "# 2.计算 journey 对所有输入序列中tokens的注意力分数结果\n",
    "attn_scores_2 = query_2 @ keys.T # 这里转置的原因和之前简化版的是一样的\n",
    "print(attn_scores_2)\n",
    "\n",
    "# 3.计算所有tokens之间的注意力分数\n",
    "attn_scores = querys @ keys.T\n",
    "print(attn_scores)"
   ]
  },
  {
   "cell_type": "code",
   "execution_count": 13,
   "id": "f189e1a0",
   "metadata": {},
   "outputs": [
    {
     "name": "stdout",
     "output_type": "stream",
     "text": [
      "tensor([0.1500, 0.2264, 0.2199, 0.1311, 0.0906, 0.1820])\n",
      "tensor([[0.1551, 0.2104, 0.2059, 0.1413, 0.1074, 0.1799],\n",
      "        [0.1500, 0.2264, 0.2199, 0.1311, 0.0906, 0.1820],\n",
      "        [0.1503, 0.2256, 0.2192, 0.1315, 0.0914, 0.1819],\n",
      "        [0.1591, 0.1994, 0.1962, 0.1477, 0.1206, 0.1769],\n",
      "        [0.1610, 0.1949, 0.1923, 0.1501, 0.1265, 0.1752],\n",
      "        [0.1557, 0.2092, 0.2048, 0.1419, 0.1089, 0.1794]])\n"
     ]
    }
   ],
   "source": [
    "'''Step 3: 对注意力分数进行缩放和归一化得到注意力权重'''\n",
    "d_k = keys.shape[-1] # 用于缩放scale\n",
    "# 1. 计算journey对自身的注意力权重\n",
    "attn_weights_2 = torch.softmax(attn_scores_2 / d_k ** 0.5, dim = -1)\n",
    "\n",
    "print(attn_weights_2)\n",
    "\n",
    "# 2. 计算所有tokens之间的注意力权重\n",
    "import numpy as np\n",
    "attn_weights = torch.softmax(attn_scores / np.sqrt(d_k), dim = -1)\n",
    "print(attn_weights)"
   ]
  },
  {
   "cell_type": "code",
   "execution_count": null,
   "id": "9aeadcc3",
   "metadata": {},
   "outputs": [
    {
     "name": "stdout",
     "output_type": "stream",
     "text": [
      "tensor([0.3061, 0.8210])\n",
      "tensor([[0.2996, 0.8053],\n",
      "        [0.3061, 0.8210],\n",
      "        [0.3058, 0.8203],\n",
      "        [0.2948, 0.7939],\n",
      "        [0.2927, 0.7891],\n",
      "        [0.2990, 0.8040]])\n"
     ]
    }
   ],
   "source": [
    "'''Step 4: 计算得到最终的context vector'''\n",
    "# 1.计算journey的context vector\n",
    "context_vec_2 = attn_weights_2 @ values #这里不用转置的愿意就是让注意力权重乘到每一个value embedding上，然后求和\n",
    "print(context_vec_2)\n",
    "\n",
    "# 2. 计算所有token的context vectors \n",
    "context_vec = attn_weights @ values\n",
    "print(context_vec) \n",
    "\n",
    "#这样就完成了从最开始tokenization和embedding之后的 token embedding，\n",
    "# 到经过引入query, key, value权重矩阵的自注意力机制，\n",
    "# 得到最终的context vectors"
   ]
  },
  {
   "cell_type": "markdown",
   "id": "c9f9450f",
   "metadata": {},
   "source": [
    "# 3.将自注意力机制集成到一个类中"
   ]
  },
  {
   "cell_type": "code",
   "execution_count": null,
   "id": "c83bc106",
   "metadata": {},
   "outputs": [],
   "source": [
    "'''1. 使用torch.nn.Parameter创建Q,K,V权重矩阵'''\n",
    "import torch.nn as nn\n",
    "class selfAttention_v1(nn.Module):\n",
    "    def __init__(self, d_in, d_out):\n",
    "        super().__init__()\n",
    "        # 初始化可训练权重\n",
    "        self.W_query = nn.Parameter(torch.rand(d_in, d_out))\n",
    "        self.W_key = nn.Parameter(torch.rand(d_in, d_out))\n",
    "        self.W_value = nn.Parameter(torch.rand(d_in, d_out))\n",
    "\n",
    "    def forward(self, x):\n",
    "        # 使用权重矩阵将输入投影到Q,K,V\n",
    "        queries = x @ self.W_query\n",
    "        keys = x @ self.W_key\n",
    "        values = x @ self.W_value\n",
    "\n",
    "        #计算得到注意力分数\n",
    "        attn_scores = queries @ keys.T\n",
    "\n",
    "        # 缩放和归一化得到注意力权重\n",
    "        attn_weights = torch.softmax(attn_scores / keys.shape[-1] ** 0.5, dim = -1)\n",
    "\n",
    "        # 加权求和得到最终的context vector\n",
    "        context_vec = attn_weights @ values\n",
    "\n",
    "        return context_vec"
   ]
  },
  {
   "cell_type": "code",
   "execution_count": 17,
   "id": "a2e50351",
   "metadata": {},
   "outputs": [
    {
     "name": "stdout",
     "output_type": "stream",
     "text": [
      "tensor([[0.2996, 0.8053],\n",
      "        [0.3061, 0.8210],\n",
      "        [0.3058, 0.8203],\n",
      "        [0.2948, 0.7939],\n",
      "        [0.2927, 0.7891],\n",
      "        [0.2990, 0.8040]], grad_fn=<MmBackward0>)\n"
     ]
    }
   ],
   "source": [
    "inputs = torch.tensor(\n",
    "  [[0.43, 0.15, 0.89], # Your     (x^1)\n",
    "   [0.55, 0.87, 0.66], # journey  (x^2)\n",
    "   [0.57, 0.85, 0.64], # starts   (x^3)\n",
    "   [0.22, 0.58, 0.33], # with     (x^4)\n",
    "   [0.77, 0.25, 0.10], # one      (x^5)\n",
    "   [0.05, 0.80, 0.55]] # step     (x^6)\n",
    ")\n",
    "\n",
    "d_in = inputs.shape[-1]\n",
    "d_out = 2\n",
    "\n",
    "torch.manual_seed(123)\n",
    "\n",
    "sa_v1 = selfAttention_v1(d_in, d_out)\n",
    "print(sa_v1(inputs))"
   ]
  },
  {
   "cell_type": "code",
   "execution_count": null,
   "id": "d90409e6",
   "metadata": {},
   "outputs": [],
   "source": [
    "'''2. 使用torch.nn.Linear()创建Q,K,V权重矩阵'''\n",
    "import torch.nn as nn\n",
    "class selfAttention_v2(nn.Module):\n",
    "    def __init__(self, d_in, d_out, qkv_bias = False):\n",
    "        super().__init__()\n",
    "        # 初始化可训练权重\n",
    "        self.W_query = nn.Linear(d_in, d_out, bias = qkv_bias)#这里将bias设置为False，那么Linear层的作用就相当于是简单的矩阵相乘了\n",
    "        self.W_key = nn.Linear(d_in, d_out, bias = qkv_bias)\n",
    "        self.W_value = nn.Linear(d_in, d_out, bias = qkv_bias)\n",
    "\n",
    "    def forward(self, x):\n",
    "        # 使用权重矩阵将输入投影到Q,K,V\n",
    "        queries = self.W_query(x)\n",
    "        keys = self.W_key(x)\n",
    "        values = self.W_value(x)\n",
    "\n",
    "        #计算得到注意力分数\n",
    "        attn_scores = queries @ keys.T\n",
    "\n",
    "        # 缩放和归一化得到注意力权重\n",
    "        attn_weights = torch.softmax(attn_scores / keys.shape[-1] ** 0.5, dim = -1)\n",
    "\n",
    "        # 加权求和得到最终的context vector\n",
    "        context_vec = attn_weights @ values\n",
    "\n",
    "        return context_vec"
   ]
  },
  {
   "cell_type": "code",
   "execution_count": 20,
   "id": "d00a80e3",
   "metadata": {},
   "outputs": [
    {
     "name": "stdout",
     "output_type": "stream",
     "text": [
      "tensor([[-0.0739,  0.0713],\n",
      "        [-0.0748,  0.0703],\n",
      "        [-0.0749,  0.0702],\n",
      "        [-0.0760,  0.0685],\n",
      "        [-0.0763,  0.0679],\n",
      "        [-0.0754,  0.0693]], grad_fn=<MmBackward0>)\n"
     ]
    }
   ],
   "source": [
    "inputs = torch.tensor(\n",
    "  [[0.43, 0.15, 0.89], # Your     (x^1)\n",
    "   [0.55, 0.87, 0.66], # journey  (x^2)\n",
    "   [0.57, 0.85, 0.64], # starts   (x^3)\n",
    "   [0.22, 0.58, 0.33], # with     (x^4)\n",
    "   [0.77, 0.25, 0.10], # one      (x^5)\n",
    "   [0.05, 0.80, 0.55]] # step     (x^6)\n",
    ")\n",
    "\n",
    "d_in = inputs.shape[-1]\n",
    "d_out = 2\n",
    "\n",
    "torch.manual_seed(789)\n",
    "\n",
    "sa_v2 = selfAttention_v2(d_in, d_out)\n",
    "print(sa_v2(inputs))"
   ]
  },
  {
   "cell_type": "code",
   "execution_count": 23,
   "id": "a0e804d4",
   "metadata": {},
   "outputs": [
    {
     "name": "stdout",
     "output_type": "stream",
     "text": [
      "tensor([[-0.0739,  0.0713],\n",
      "        [-0.0748,  0.0703],\n",
      "        [-0.0749,  0.0702],\n",
      "        [-0.0760,  0.0685],\n",
      "        [-0.0763,  0.0679],\n",
      "        [-0.0754,  0.0693]], grad_fn=<MmBackward0>)\n"
     ]
    }
   ],
   "source": [
    "'''3. 让两种方法输出的结果一致'''\n",
    "# 方法一：直接将v2的权重矩阵赋值给v1\n",
    "sa_v1.W_query.data = sa_v2.W_query.weight.T\n",
    "sa_v1.W_key.data = sa_v2.W_key.weight.T\n",
    "sa_v1.W_value.data = sa_v2.W_value.weight.T\n",
    "\n",
    "# 方法二：根据v2的权重的值，重新创建nn.Parameter对象\n",
    "sa_v1.W_query = torch.nn.Parameter(sa_v2.W_query.weight.T)\n",
    "sa_v1.W_key = torch.nn.Parameter(sa_v2.W_key.weight.T)\n",
    "sa_v1.W_value = torch.nn.Parameter(sa_v2.W_value.weight.T)\n",
    "\n",
    "inputs = torch.tensor(\n",
    "  [[0.43, 0.15, 0.89], # Your     (x^1)\n",
    "   [0.55, 0.87, 0.66], # journey  (x^2)\n",
    "   [0.57, 0.85, 0.64], # starts   (x^3)\n",
    "   [0.22, 0.58, 0.33], # with     (x^4)\n",
    "   [0.77, 0.25, 0.10], # one      (x^5)\n",
    "   [0.05, 0.80, 0.55]] # step     (x^6)\n",
    ")\n",
    "\n",
    "d_in = inputs.shape[-1]\n",
    "d_out = 2\n",
    "\n",
    "print(sa_v1(inputs))"
   ]
  },
  {
   "cell_type": "markdown",
   "id": "8fcb4454",
   "metadata": {},
   "source": [
    "Notes: __使用nn.Linear()的主要原因是它内置的的权重初始化方法更好，能够保证模型训练过程中的稳定。__"
   ]
  }
 ],
 "metadata": {
  "kernelspec": {
   "display_name": "pytorch",
   "language": "python",
   "name": "python3"
  },
  "language_info": {
   "codemirror_mode": {
    "name": "ipython",
    "version": 3
   },
   "file_extension": ".py",
   "mimetype": "text/x-python",
   "name": "python",
   "nbconvert_exporter": "python",
   "pygments_lexer": "ipython3",
   "version": "3.9.19"
  }
 },
 "nbformat": 4,
 "nbformat_minor": 5
}
