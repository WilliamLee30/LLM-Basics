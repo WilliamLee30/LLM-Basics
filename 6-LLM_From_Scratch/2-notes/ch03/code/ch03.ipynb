{
 "cells": [
  {
   "cell_type": "markdown",
   "id": "08012f7f",
   "metadata": {},
   "source": [
    "# 1.不包含可训练权重的简化版自注意力机制 "
   ]
  },
  {
   "cell_type": "code",
   "execution_count": 2,
   "id": "9c3da840",
   "metadata": {},
   "outputs": [],
   "source": [
    "import torch\n",
    "\n",
    "inputs = torch.tensor(\n",
    "  [[0.43, 0.15, 0.89], # Your     (x^1)\n",
    "   [0.55, 0.87, 0.66], # journey  (x^2)\n",
    "   [0.57, 0.85, 0.64], # starts   (x^3)\n",
    "   [0.22, 0.58, 0.33], # with     (x^4)\n",
    "   [0.77, 0.25, 0.10], # one      (x^5)\n",
    "   [0.05, 0.80, 0.55]] # step     (x^6)\n",
    ")"
   ]
  },
  {
   "cell_type": "markdown",
   "id": "3a2da739",
   "metadata": {},
   "source": [
    "## 1.1 以计算inputs中\"journey\"的context vector为例"
   ]
  },
  {
   "cell_type": "code",
   "execution_count": null,
   "id": "c70e9e3e",
   "metadata": {},
   "outputs": [
    {
     "name": "stdout",
     "output_type": "stream",
     "text": [
      "tensor([0.9544, 1.4950, 1.4754, 0.8434, 0.7070, 1.0865])\n",
      "tensor([0.9544, 1.4950, 1.4754, 0.8434, 0.7070, 1.0865])\n"
     ]
    }
   ],
   "source": [
    "'''Step1: Get the attention scores'''\n",
    "query = inputs[1] #这里的query就是Transformers里面的query，就是当前待计算context vector的元素的embedding vector\n",
    "\n",
    "attn_scores_1 = torch.matmul(query, inputs.T) #这里因为是将一个形状为(1,3)的向量与形状为(6,3)的矩阵相乘，所以需要对矩阵进行转置操作\n",
    "\n",
    "attn_scores_2 = torch.empty(inputs.shape[0])\n",
    "for i, x_i in enumerate(inputs):\n",
    "    attn_scores_2[i] = torch.dot(x_i, query) #这里现在进行点积的是两个一维向量，就不用进行转置操作\n",
    "\n",
    "print(attn_scores_1)\n",
    "print(attn_scores_2)"
   ]
  },
  {
   "cell_type": "code",
   "execution_count": 6,
   "id": "d7271d61",
   "metadata": {},
   "outputs": [
    {
     "name": "stdout",
     "output_type": "stream",
     "text": [
      "tensor(0.9544)\n",
      "tensor(0.9544)\n"
     ]
    }
   ],
   "source": [
    "'''Simulate the dot product operation'''\n",
    "res = 0\n",
    "\n",
    "for idx, element in enumerate(inputs[0]):\n",
    "    res += inputs[0][idx] * query[idx]\n",
    "\n",
    "print(res)\n",
    "print(torch.dot(inputs[0], query))"
   ]
  },
  {
   "cell_type": "code",
   "execution_count": 10,
   "id": "e5256e08",
   "metadata": {},
   "outputs": [
    {
     "name": "stdout",
     "output_type": "stream",
     "text": [
      "tensor([0.1455, 0.2278, 0.2249, 0.1285, 0.1077, 0.1656])\n",
      "tensor(1.0000)\n",
      "tensor([0.1385, 0.2379, 0.2333, 0.1240, 0.1082, 0.1581])\n",
      "tensor(1.)\n",
      "tensor([0.1385, 0.2379, 0.2333, 0.1240, 0.1082, 0.1581])\n",
      "tensor(1.)\n"
     ]
    }
   ],
   "source": [
    "'''Step 2: Normaliza the attention scores to get the final attention weights'''\n",
    "#1.A simple way\n",
    "attn_weights_2_tmp = attn_scores_2  / attn_scores_2.sum()\n",
    "print(attn_weights_2_tmp)\n",
    "print(attn_weights_2_tmp.sum())\n",
    "\n",
    "#2.Using softmax function \n",
    "# Using self-implemented softmax function\n",
    "def softmax_naive(x):\n",
    "    return torch.exp(x) / torch.exp(x).sum(dim = 0)\n",
    "\n",
    "attn_weights_2_naive = softmax_naive(attn_scores_2)\n",
    "print(attn_weights_2_naive)\n",
    "print(attn_weights_2_naive.sum())\n",
    "\n",
    "# Using torch.softmax()\n",
    "attn_weights_2 = torch.softmax(attn_scores_2, dim = 0)\n",
    "print(attn_weights_2)\n",
    "print(attn_weights_2.sum())"
   ]
  },
  {
   "cell_type": "code",
   "execution_count": 11,
   "id": "634d84e0",
   "metadata": {},
   "outputs": [
    {
     "name": "stdout",
     "output_type": "stream",
     "text": [
      "tensor([0.4419, 0.6515, 0.5683])\n"
     ]
    }
   ],
   "source": [
    "'''Step 3: Comput the context vector '''\n",
    "query = inputs[1]\n",
    "\n",
    "context_vec_2 = torch.zeros(query.shape) #因为context vector的shape和token embedding vector是一样的\n",
    "for i, x_i in enumerate(inputs):\n",
    "    context_vec_2 += attn_weights_2[i] * x_i #就是将序列中每个token的注意力权重乘以它的embedding vector，然后再相加\n",
    "\n",
    "print(context_vec_2)"
   ]
  },
  {
   "cell_type": "markdown",
   "id": "8e855cf3",
   "metadata": {},
   "source": [
    "## 1.2 计算输入序列中所有tokens的context vector"
   ]
  },
  {
   "cell_type": "code",
   "execution_count": null,
   "id": "09b8b60f",
   "metadata": {},
   "outputs": [
    {
     "name": "stdout",
     "output_type": "stream",
     "text": [
      "tensor([[0.9995, 0.9544, 0.9422, 0.4753, 0.4576, 0.6310],\n",
      "        [0.9544, 1.4950, 1.4754, 0.8434, 0.7070, 1.0865],\n",
      "        [0.9422, 1.4754, 1.4570, 0.8296, 0.7154, 1.0605],\n",
      "        [0.4753, 0.8434, 0.8296, 0.4937, 0.3474, 0.6565],\n",
      "        [0.4576, 0.7070, 0.7154, 0.3474, 0.6654, 0.2935],\n",
      "        [0.6310, 1.0865, 1.0605, 0.6565, 0.2935, 0.9450]])\n",
      "tensor([[0.9995, 0.9544, 0.9422, 0.4753, 0.4576, 0.6310],\n",
      "        [0.9544, 1.4950, 1.4754, 0.8434, 0.7070, 1.0865],\n",
      "        [0.9422, 1.4754, 1.4570, 0.8296, 0.7154, 1.0605],\n",
      "        [0.4753, 0.8434, 0.8296, 0.4937, 0.3474, 0.6565],\n",
      "        [0.4576, 0.7070, 0.7154, 0.3474, 0.6654, 0.2935],\n",
      "        [0.6310, 1.0865, 1.0605, 0.6565, 0.2935, 0.9450]])\n",
      "tensor([[0.9995, 0.9544, 0.9422, 0.4753, 0.4576, 0.6310],\n",
      "        [0.9544, 1.4950, 1.4754, 0.8434, 0.7070, 1.0865],\n",
      "        [0.9422, 1.4754, 1.4570, 0.8296, 0.7154, 1.0605],\n",
      "        [0.4753, 0.8434, 0.8296, 0.4937, 0.3474, 0.6565],\n",
      "        [0.4576, 0.7070, 0.7154, 0.3474, 0.6654, 0.2935],\n",
      "        [0.6310, 1.0865, 1.0605, 0.6565, 0.2935, 0.9450]])\n"
     ]
    }
   ],
   "source": [
    "'''1. Compute the un-normalized attention scores'''\n",
    "attn_scores = torch.empty(inputs.shape[0], inputs.shape[0]) #这里之所以是inputs.shape[0]的原因是，对于每一个token，都要计算和其他所有token之间的注意力分数，而总的tokens的数量就是inputs.shape[0]，\n",
    "# 也就是max_length的大小，输入序列越长，注意力分数的矩阵就越大，而且是二次方的增长关系，shape是max_length * max_length\n",
    "\n",
    "#（1）使用循环的方式计算：速度慢，计算复杂度是O(n^2):\n",
    "for i, x_i in enumerate(inputs):\n",
    "    for j, x_j in enumerate(inputs):\n",
    "        attn_scores[i, j] = torch.dot(x_i, x_j)\n",
    "print(attn_scores)\n",
    "\n",
    "# (2) 使用矩阵相乘的方式计算：速度快\n",
    "attn_scores = inputs @ inputs.T #@符号代表矩阵相乘的意思\n",
    "print(attn_scores)\n",
    "\n",
    "attn_scores = torch.matmul(inputs, inputs.T) #将inputs转置的根本原因是，\n",
    "# 转置之后就能实现inputs中的每一行作为query，能够与inputs.T中的每一列相乘，作点积运算，得到最终的注意力分数结果矩阵\n",
    "print(attn_scores)"
   ]
  },
  {
   "cell_type": "code",
   "execution_count": null,
   "id": "9a396881",
   "metadata": {},
   "outputs": [
    {
     "name": "stdout",
     "output_type": "stream",
     "text": [
      "tensor([[0.2098, 0.2006, 0.1981, 0.1242, 0.1220, 0.1452],\n",
      "        [0.1385, 0.2379, 0.2333, 0.1240, 0.1082, 0.1581],\n",
      "        [0.1390, 0.2369, 0.2326, 0.1242, 0.1108, 0.1565],\n",
      "        [0.1435, 0.2074, 0.2046, 0.1462, 0.1263, 0.1720],\n",
      "        [0.1526, 0.1958, 0.1975, 0.1367, 0.1879, 0.1295],\n",
      "        [0.1385, 0.2184, 0.2128, 0.1420, 0.0988, 0.1896]])\n",
      "tensor([1.0000, 1.0000, 1.0000, 1.0000, 1.0000, 1.0000])\n"
     ]
    }
   ],
   "source": [
    "'''2. Apply normalization using softmax function'''\n",
    "attn_weights = torch.softmax(attn_scores, dim = 1) # dim = 1是因为需要在列上进行计算\n",
    "print(attn_weights)\n",
    "\n",
    "print(attn_weights.sum(1)) #说明归一化成功了"
   ]
  },
  {
   "cell_type": "code",
   "execution_count": null,
   "id": "21b32e0a",
   "metadata": {},
   "outputs": [
    {
     "name": "stdout",
     "output_type": "stream",
     "text": [
      "tensor([[0.4421, 0.5931, 0.5790],\n",
      "        [0.4419, 0.6515, 0.5683],\n",
      "        [0.4431, 0.6496, 0.5671],\n",
      "        [0.4304, 0.6298, 0.5510],\n",
      "        [0.4671, 0.5910, 0.5266],\n",
      "        [0.4177, 0.6503, 0.5645]])\n",
      "tensor([0.4419, 0.6515, 0.5683])\n",
      "tensor([0.4419, 0.6515, 0.5683])\n"
     ]
    }
   ],
   "source": [
    "'''3. Comput the final context vector'''\n",
    "all_context_vec = attn_weights @ inputs #这里不进行转置的原因是需要将attn_weights中的每一行的query的注意力权重，\n",
    "# 分别乘到所有的token的embedding vector上，因此就不用转置了。\n",
    "print(all_context_vec)\n",
    "\n",
    "print(all_context_vec[1])\n",
    "print(context_vec_2)"
   ]
  },
  {
   "cell_type": "markdown",
   "id": "d5d98791",
   "metadata": {},
   "source": [
    "1.计算Context_vector过程的手动推导：\n",
    "![](./images/计算上下文向量的过程推导.jpg)"
   ]
  }
 ],
 "metadata": {
  "kernelspec": {
   "display_name": "pytorch",
   "language": "python",
   "name": "python3"
  },
  "language_info": {
   "codemirror_mode": {
    "name": "ipython",
    "version": 3
   },
   "file_extension": ".py",
   "mimetype": "text/x-python",
   "name": "python",
   "nbconvert_exporter": "python",
   "pygments_lexer": "ipython3",
   "version": "3.9.19"
  }
 },
 "nbformat": 4,
 "nbformat_minor": 5
}
