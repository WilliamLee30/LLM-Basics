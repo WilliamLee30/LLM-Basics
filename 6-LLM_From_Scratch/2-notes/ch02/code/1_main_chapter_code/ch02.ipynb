{
 "cells": [
  {
   "cell_type": "markdown",
   "metadata": {},
   "source": [
    "# 1.将text划分为token"
   ]
  },
  {
   "cell_type": "code",
   "execution_count": 8,
   "metadata": {},
   "outputs": [
    {
     "name": "stdout",
     "output_type": "stream",
     "text": [
      "20479\n",
      "I HAD always thought Jack Gisburn rather a cheap genius--though a good fellow enough--so it was no \n"
     ]
    }
   ],
   "source": [
    "'''Load data'''\n",
    "import os\n",
    "import urllib.request\n",
    "\n",
    "if not os.path.exists(\"./data/the-verdict.txt\"):\n",
    "    url = (\"https://raw.githubusercontent.com/rasbt/\"\n",
    "           \"LLMs-from-scratch/main/ch02/01_main-chapter-code/\"\n",
    "           \"the-verdict.txt\")\n",
    "    file_path = \"./data/the-verdict.txt\"\n",
    "    urllib.request.urlretrieve(url, file_path)\n",
    "\n",
    "with open(\"./data/the-verdict.txt\", 'r', encoding = 'utf-8') as f:\n",
    "    raw_text = f.read()\n",
    "\n",
    "print(len(raw_text))\n",
    "print(raw_text[0:99])"
   ]
  },
  {
   "cell_type": "code",
   "execution_count": 9,
   "metadata": {},
   "outputs": [
    {
     "name": "stdout",
     "output_type": "stream",
     "text": [
      "['I', 'HAD', 'always', 'thought', 'Jack', 'Gisburn', 'rather', 'a', 'cheap', 'genius', '--', 'though', 'a', 'good', 'fellow', 'enough', '--', 'so', 'it', 'was', 'no', 'great', 'surprise', 'to', 'me', 'to', 'hear', 'that', ',', 'in']\n",
      "4690\n"
     ]
    }
   ],
   "source": [
    "'''Process the text using regular expression'''\n",
    "import re\n",
    "preprocessed = re.split(r'([,.:;?_!\"()\\']|--|\\s)', raw_text)\n",
    "preprocessed = [item.strip() for item in preprocessed if item.strip()]\n",
    "\n",
    "print(preprocessed[0:30])\n",
    "print(len(preprocessed)) #这就是token的数量"
   ]
  },
  {
   "cell_type": "markdown",
   "metadata": {},
   "source": [
    "# 2.将Token映射为Token IDs "
   ]
  },
  {
   "cell_type": "code",
   "execution_count": 10,
   "metadata": {},
   "outputs": [
    {
     "name": "stdout",
     "output_type": "stream",
     "text": [
      "1130\n"
     ]
    }
   ],
   "source": [
    "'''Build vocabulary containing all these tokens'''\n",
    "all_words = sorted(set(preprocessed))\n",
    "vocab_size = len(all_words)\n",
    "\n",
    "print(vocab_size) \n",
    "\n",
    "# Note\n",
    "# 构建字典的时候，需要先去重，然后按照字母表的顺序排序"
   ]
  },
  {
   "cell_type": "code",
   "execution_count": 11,
   "metadata": {},
   "outputs": [
    {
     "name": "stdout",
     "output_type": "stream",
     "text": [
      "('!', 0)\n",
      "('\"', 1)\n",
      "(\"'\", 2)\n",
      "('(', 3)\n",
      "(')', 4)\n",
      "(',', 5)\n",
      "('--', 6)\n",
      "('.', 7)\n",
      "(':', 8)\n",
      "(';', 9)\n",
      "('?', 10)\n",
      "('A', 11)\n",
      "('Ah', 12)\n",
      "('Among', 13)\n",
      "('And', 14)\n",
      "('Are', 15)\n",
      "('Arrt', 16)\n",
      "('As', 17)\n",
      "('At', 18)\n",
      "('Be', 19)\n",
      "('Begin', 20)\n"
     ]
    }
   ],
   "source": [
    "vocab = {token:integer for integer,token in enumerate(all_words)}\n",
    "\n",
    "for i, item in enumerate(vocab.items()):\n",
    "    print(item)\n",
    "    if i == 20:\n",
    "        break\n",
    "\n",
    "# Note:\n",
    "# token作为字典的key的原因是，现在是token -> token IDs，是拿token去查"
   ]
  },
  {
   "cell_type": "code",
   "execution_count": 12,
   "metadata": {},
   "outputs": [],
   "source": [
    "'''Put all these operations into a tokenizer class'''\n",
    "class SimpleTokenizerV1:\n",
    "    def __init__(self, vocab):\n",
    "        self.str_to_int = vocab #词典是提前建立好的，tokenizer只是拿过来用了\n",
    "        self.int_to_str = {i:s for s, i in vocab.items()}\n",
    "    \n",
    "    def encode(self, text):\n",
    "        '''将token转换为token ID'''\n",
    "        # 查词典之前需要先对文本进行处理\n",
    "        preprocessed = re.split(r'([,.:;?_!\"()\\']|--|\\s)', text)\n",
    "        preprocessed = [item.strip() for item in preprocessed if item.strip()]\n",
    "\n",
    "        #在vocab中取出token对应的token ID\n",
    "        ids = [self.str_to_int[s] for s in preprocessed]\n",
    "\n",
    "        return ids\n",
    "\n",
    "    def decode(self, ids):\n",
    "        '''将token ID转换为文本'''\n",
    "        text = \" \".join([self.int_to_str[i] for i in ids])\n",
    "\n",
    "        # 将特殊字符前的空格替换\n",
    "        text = re.sub(r'\\s+([,.?!\"()\\'])', r'\\1', text)\n",
    "\n",
    "        return text"
   ]
  },
  {
   "cell_type": "code",
   "execution_count": 13,
   "metadata": {},
   "outputs": [
    {
     "name": "stdout",
     "output_type": "stream",
     "text": [
      "[1, 56, 2, 850, 988, 602, 533, 746, 5, 1126, 596, 5, 1, 67, 7, 38, 851, 1108, 754, 793, 7]\n"
     ]
    }
   ],
   "source": [
    "'''Tokenize text using the tokenizer'''\n",
    "\n",
    "text = \"\"\"\"It's the last he painted, you know,\" \n",
    "           Mrs. Gisburn said with pardonable pride.\"\"\"\n",
    "\n",
    "tokenizer = SimpleTokenizerV1(vocab)\n",
    "ids = tokenizer.encode(text)\n",
    "\n",
    "print(ids)"
   ]
  },
  {
   "cell_type": "code",
   "execution_count": 14,
   "metadata": {},
   "outputs": [
    {
     "name": "stdout",
     "output_type": "stream",
     "text": [
      "\" It' s the last he painted, you know,\" Mrs. Gisburn said with pardonable pride.\n"
     ]
    }
   ],
   "source": [
    "'''Decode the integers back into text'''\n",
    "print(tokenizer.decode(ids))"
   ]
  },
  {
   "cell_type": "markdown",
   "metadata": {},
   "source": [
    "# 3.添加特殊的context tokens\n"
   ]
  },
  {
   "cell_type": "code",
   "execution_count": 15,
   "metadata": {},
   "outputs": [
    {
     "ename": "KeyError",
     "evalue": "'Hello'",
     "output_type": "error",
     "traceback": [
      "\u001b[1;31m---------------------------------------------------------------------------\u001b[0m",
      "\u001b[1;31mKeyError\u001b[0m                                  Traceback (most recent call last)",
      "Cell \u001b[1;32mIn[15], line 5\u001b[0m\n\u001b[0;32m      1\u001b[0m tokenizer \u001b[38;5;241m=\u001b[39m SimpleTokenizerV1(vocab)\n\u001b[0;32m      3\u001b[0m text \u001b[38;5;241m=\u001b[39m \u001b[38;5;124m\"\u001b[39m\u001b[38;5;124mHello, do you like tea. Is this-- a test?\u001b[39m\u001b[38;5;124m\"\u001b[39m\n\u001b[1;32m----> 5\u001b[0m \u001b[43mtokenizer\u001b[49m\u001b[38;5;241;43m.\u001b[39;49m\u001b[43mencode\u001b[49m\u001b[43m(\u001b[49m\u001b[43mtext\u001b[49m\u001b[43m)\u001b[49m \u001b[38;5;66;03m#Hello在字典中是没有的\u001b[39;00m\n",
      "Cell \u001b[1;32mIn[12], line 14\u001b[0m, in \u001b[0;36mSimpleTokenizerV1.encode\u001b[1;34m(self, text)\u001b[0m\n\u001b[0;32m     11\u001b[0m preprocessed \u001b[38;5;241m=\u001b[39m [item\u001b[38;5;241m.\u001b[39mstrip() \u001b[38;5;28;01mfor\u001b[39;00m item \u001b[38;5;129;01min\u001b[39;00m preprocessed \u001b[38;5;28;01mif\u001b[39;00m item\u001b[38;5;241m.\u001b[39mstrip()]\n\u001b[0;32m     13\u001b[0m \u001b[38;5;66;03m#在vocab中取出token对应的token ID\u001b[39;00m\n\u001b[1;32m---> 14\u001b[0m ids \u001b[38;5;241m=\u001b[39m [\u001b[38;5;28mself\u001b[39m\u001b[38;5;241m.\u001b[39mstr_to_int[s] \u001b[38;5;28;01mfor\u001b[39;00m s \u001b[38;5;129;01min\u001b[39;00m preprocessed]\n\u001b[0;32m     16\u001b[0m \u001b[38;5;28;01mreturn\u001b[39;00m ids\n",
      "Cell \u001b[1;32mIn[12], line 14\u001b[0m, in \u001b[0;36m<listcomp>\u001b[1;34m(.0)\u001b[0m\n\u001b[0;32m     11\u001b[0m preprocessed \u001b[38;5;241m=\u001b[39m [item\u001b[38;5;241m.\u001b[39mstrip() \u001b[38;5;28;01mfor\u001b[39;00m item \u001b[38;5;129;01min\u001b[39;00m preprocessed \u001b[38;5;28;01mif\u001b[39;00m item\u001b[38;5;241m.\u001b[39mstrip()]\n\u001b[0;32m     13\u001b[0m \u001b[38;5;66;03m#在vocab中取出token对应的token ID\u001b[39;00m\n\u001b[1;32m---> 14\u001b[0m ids \u001b[38;5;241m=\u001b[39m [\u001b[38;5;28;43mself\u001b[39;49m\u001b[38;5;241;43m.\u001b[39;49m\u001b[43mstr_to_int\u001b[49m\u001b[43m[\u001b[49m\u001b[43ms\u001b[49m\u001b[43m]\u001b[49m \u001b[38;5;28;01mfor\u001b[39;00m s \u001b[38;5;129;01min\u001b[39;00m preprocessed]\n\u001b[0;32m     16\u001b[0m \u001b[38;5;28;01mreturn\u001b[39;00m ids\n",
      "\u001b[1;31mKeyError\u001b[0m: 'Hello'"
     ]
    }
   ],
   "source": [
    "tokenizer = SimpleTokenizerV1(vocab)\n",
    "\n",
    "text = \"Hello, do you like tea. Is this-- a test?\"\n",
    "\n",
    "tokenizer.encode(text) #Hello在字典中是没有的"
   ]
  },
  {
   "cell_type": "code",
   "execution_count": null,
   "metadata": {},
   "outputs": [],
   "source": [
    "'''Adding context tokens <|endoftext|> and <|unk|> into the vocabulary'''\n",
    "all_tokens = sorted(list(set(preprocessed)))\n",
    "all_tokens.extend([\"<|endoftext|>\", \"<|unk|>\"])\n",
    "\n",
    "vocab = {token:integer for integer, token in enumerate(all_tokens)}"
   ]
  },
  {
   "cell_type": "code",
   "execution_count": null,
   "metadata": {},
   "outputs": [
    {
     "name": "stdout",
     "output_type": "stream",
     "text": [
      "1132\n",
      "('younger', 1127)\n",
      "('your', 1128)\n",
      "('yourself', 1129)\n",
      "('<|endoftext|>', 1130)\n",
      "('<|unk|>', 1131)\n"
     ]
    }
   ],
   "source": [
    "print(len(vocab))\n",
    "\n",
    "for i,item in enumerate(list(vocab.items())[-5:]):\n",
    "    print(item)"
   ]
  },
  {
   "cell_type": "code",
   "execution_count": null,
   "metadata": {},
   "outputs": [],
   "source": [
    "'''Replace unknown words in the input text with <|unk|> token'''\n",
    "class SimpleTokenizerV2:\n",
    "    def __init__(self, vocab):\n",
    "        self.str_to_int = vocab #词典是提前建立好的，tokenizer只是拿过来用了\n",
    "        self.int_to_str = {i:s for s, i in vocab.items()}\n",
    "    \n",
    "    def encode(self, text):\n",
    "        '''将token转换为token ID'''\n",
    "        # 查词典之前需要先对文本进行处理\n",
    "        preprocessed = re.split(r'([,.:;?_!\"()\\']|--|\\s)', text)\n",
    "        preprocessed = [item.strip() for item in preprocessed if item.strip()]\n",
    "        \n",
    "        # 将输入中，在字典中没有的词，替换为<|unk|>\n",
    "        preprocessed = [\n",
    "            item if item in self.str_to_int\n",
    "            else \"<|unk|>\" for item in preprocessed\n",
    "        ]\n",
    "\n",
    "        #在vocab中取出token对应的token ID\n",
    "        ids = [self.str_to_int[s] for s in preprocessed]\n",
    "\n",
    "        return ids\n",
    "\n",
    "    def decode(self, ids):\n",
    "        '''将token ID转换为文本'''\n",
    "        text = \" \".join([self.int_to_str[i] for i in ids])\n",
    "\n",
    "        # 将特殊字符前的空格替换\n",
    "        text = re.sub(r'\\s+([,.?!\"()\\'])', r'\\1', text)\n",
    "\n",
    "        return text"
   ]
  },
  {
   "cell_type": "code",
   "execution_count": null,
   "metadata": {},
   "outputs": [
    {
     "name": "stdout",
     "output_type": "stream",
     "text": [
      "Hello, do you like tea? <|endoftext|> In the sunlit terraces of the palace.\n"
     ]
    }
   ],
   "source": [
    "tokenizer = SimpleTokenizerV2(vocab)\n",
    "\n",
    "text1 = \"Hello, do you like tea?\"\n",
    "text2 = \"In the sunlit terraces of the palace.\"\n",
    "\n",
    "# 使用<|endoftext|>连接不相关的文本，注意在连接的时候，前后一定要加空格！！！\n",
    "text = \" <|endoftext|> \".join((text1, text2))\n",
    "\n",
    "print(text)"
   ]
  },
  {
   "cell_type": "code",
   "execution_count": null,
   "metadata": {},
   "outputs": [
    {
     "name": "stdout",
     "output_type": "stream",
     "text": [
      "[1131, 5, 355, 1126, 628, 975, 10, 1130, 55, 988, 956, 984, 722, 988, 1131, 7]\n"
     ]
    }
   ],
   "source": [
    "# 对包含未知单词的文本进行tokenization\n",
    "print(tokenizer.encode(text))"
   ]
  },
  {
   "cell_type": "code",
   "execution_count": null,
   "metadata": {},
   "outputs": [
    {
     "name": "stdout",
     "output_type": "stream",
     "text": [
      "<|unk|>, do you like tea? <|endoftext|> In the sunlit terraces of the <|unk|>.\n"
     ]
    }
   ],
   "source": [
    "# 对tokenized的结果再de-tokenization\n",
    "print(tokenizer.decode(tokenizer.encode(text)))\n",
    "\n",
    "# 可以发现，在de-tokenization的时候，如果是存在字典中未知的token，就会无法解析回到原始的文本了"
   ]
  },
  {
   "cell_type": "markdown",
   "metadata": {},
   "source": [
    "# 4.字节对编码BPE"
   ]
  },
  {
   "cell_type": "code",
   "execution_count": null,
   "metadata": {},
   "outputs": [
    {
     "name": "stdout",
     "output_type": "stream",
     "text": [
      "0.9.0\n"
     ]
    }
   ],
   "source": [
    "import importlib\n",
    "import tiktoken\n",
    "\n",
    "print(importlib.metadata.version(\"tiktoken\"))"
   ]
  },
  {
   "cell_type": "code",
   "execution_count": null,
   "metadata": {},
   "outputs": [],
   "source": [
    "'''Load the tokenizer'''\n",
    "tokenizer = tiktoken.get_encoding(\"gpt2\")\n",
    "\n",
    "# Note：\n",
    "# gpt2的tokenizer词典一共50257个词"
   ]
  },
  {
   "cell_type": "code",
   "execution_count": null,
   "metadata": {},
   "outputs": [
    {
     "name": "stdout",
     "output_type": "stream",
     "text": [
      "[15496, 11, 466, 345, 588, 8887, 30, 220, 50256, 554, 262, 4252, 18250, 8812, 2114, 1659, 617, 34680, 27271, 13]\n"
     ]
    }
   ],
   "source": [
    "text = (\n",
    "    \"Hello, do you like tea? <|endoftext|> In the sunlit terraces\"\n",
    "     \"of someunknownPlace.\"\n",
    ")\n",
    "\n",
    "'''Tokenization'''\n",
    "integers = tokenizer.encode(text, allowed_special = {\"<|endoftext|>\"})\n",
    "\n",
    "print(integers)"
   ]
  },
  {
   "cell_type": "code",
   "execution_count": null,
   "metadata": {},
   "outputs": [
    {
     "name": "stdout",
     "output_type": "stream",
     "text": [
      "Hello, do you like tea? <|endoftext|> In the sunlit terracesof someunknownPlace.\n"
     ]
    }
   ],
   "source": [
    "'''De-tokenization'''\n",
    "strings = tokenizer.decode(integers)\n",
    "\n",
    "print(strings)"
   ]
  },
  {
   "cell_type": "markdown",
   "metadata": {},
   "source": [
    "# 5.使用滑动窗口进行数据采样 "
   ]
  },
  {
   "cell_type": "code",
   "execution_count": 4,
   "metadata": {},
   "outputs": [
    {
     "name": "stdout",
     "output_type": "stream",
     "text": [
      "<class 'list'>\n",
      "5145\n"
     ]
    }
   ],
   "source": [
    "'''Load data and encode it using tokenizer'''\n",
    "import tiktoken\n",
    "\n",
    "with open('./data/the-verdict.txt', 'r', encoding = \"utf-8\") as f:\n",
    "    raw_text = f.read()\n",
    "\n",
    "tokenizer = tiktoken.get_encoding(\"gpt2\")\n",
    "enc_text = tokenizer.encode(raw_text)\n",
    "\n",
    "print(type(enc_text))\n",
    "print(len(enc_text))"
   ]
  },
  {
   "cell_type": "code",
   "execution_count": 5,
   "metadata": {},
   "outputs": [],
   "source": [
    "enc_sample = enc_text[50 : ] # 只是为了和教程中的保持一致"
   ]
  },
  {
   "cell_type": "code",
   "execution_count": null,
   "metadata": {},
   "outputs": [
    {
     "name": "stdout",
     "output_type": "stream",
     "text": [
      "[290, 4920, 2241, 287, 257, 4489, 64, 319, 262, 34686]\n",
      "[290, 4920, 2241, 287]\n",
      "[4920, 2241, 287, 257]\n"
     ]
    }
   ],
   "source": [
    "context_size = 4\n",
    "\n",
    "# 为了实现next token prediction任务，那么y中就要包含x中不存在的下一个token\n",
    "# 但是y是x向后移动了一位的结果，那么第一位的token就被y忽略了，这个是为什么呢，还是说实际训练\n",
    "# 的过程中，只会使用y的末位，也就是x的下一个token，所以前面忽略了也无所谓？\n",
    "x = enc_sample[:context_size]\n",
    "y = enc_sample[1:context_size + 1]\n",
    "\n",
    "print(enc_sample[0:10])\n",
    "print(x)\n",
    "print(y)"
   ]
  },
  {
   "cell_type": "code",
   "execution_count": null,
   "metadata": {},
   "outputs": [
    {
     "name": "stdout",
     "output_type": "stream",
     "text": [
      "[290]-->4920\n",
      "[290, 4920]-->2241\n",
      "[290, 4920, 2241]-->287\n",
      "[290, 4920, 2241, 287]-->257\n",
      " and--> established\n",
      " and established--> himself\n",
      " and established himself--> in\n",
      " and established himself in--> a\n"
     ]
    }
   ],
   "source": [
    "'''Simulate the next token prediction task'''\n",
    "for i in range(1, context_size + 1):\n",
    "    context = enc_sample[:i]\n",
    "    desired = enc_sample[i]\n",
    "\n",
    "    print(\"{}-->{}\".format(context, desired))\n",
    "\n",
    "\n",
    "for i in range(1, context_size + 1):\n",
    "    context = enc_sample[:i]\n",
    "    desired = enc_sample[i]\n",
    "\n",
    "    print(\"{}-->{}\".format(tokenizer.decode(context), tokenizer.decode([desired])))\n",
    "\n",
    "# Note:\n",
    "# 1.tokenizer.decode()接收的参数不能是一个数值类型，\n",
    "# 而是一个sequence类型（一个包含token IDs的list）"
   ]
  },
  {
   "cell_type": "code",
   "execution_count": 14,
   "metadata": {},
   "outputs": [
    {
     "name": "stdout",
     "output_type": "stream",
     "text": [
      "2.4.1+cu118\n"
     ]
    }
   ],
   "source": [
    "'''Implment a dataloader to get the input-target pair batch'''\n",
    "import torch\n",
    "print(torch.__version__)\n",
    "from torch.utils.data import Dataset, DataLoader"
   ]
  },
  {
   "cell_type": "code",
   "execution_count": null,
   "metadata": {},
   "outputs": [],
   "source": [
    "# Create the dataset\n",
    "class GPTDatasetV1(Dataset):\n",
    "    def __init__(self, txt, tokenizer, max_length, stride):\n",
    "        self.input_ids = []  # 输入的token序列\n",
    "        self.target_ids = [] # 目标的token序列，包含了要预测的下一个token\n",
    "\n",
    "        # Tokenize the entire text：主要是将text转换为tokens，然后进一步转换为token IDs\n",
    "        token_ids = tokenizer.encode(txt, allowed_special = {\"<|endoftext|>\"})\n",
    "\n",
    "        # print(\"token_ids\", token_ids)\n",
    "        # print(\"len(token_ids)\", len(token_ids))\n",
    "        # print(\"max_length\", max_length)\n",
    "\n",
    "        # 使用滑动窗口将输入截断（chunk）为长度是max_length的重合序列\n",
    "        if len(token_ids) > max_length:\n",
    "            for i in range(0, len(token_ids) - max_length, stride):  #这里没有考虑max_\n",
    "                input_chunk = token_ids[i : i + max_length] \n",
    "                target_chunk = token_ids[i + 1 : i + max_length + 1]\n",
    "                self.input_ids.append(torch.tensor(input_chunk))\n",
    "                self.target_ids.append(torch.tensor(target_chunk))\n",
    "        else:\n",
    "            self.input_ids.append(torch.tensor(token_ids[0 : 0 + max_length]))\n",
    "            self.target_ids.append(torch.tensor(token_ids[0 : 0 + max_length]))\n",
    "\n",
    "    \n",
    "    def __len__(self):\n",
    "        return len(self.input_ids)\n",
    "    \n",
    "    def __getitem__(self, idx):\n",
    "        return self.input_ids[idx], self.target_ids[idx]"
   ]
  },
  {
   "cell_type": "markdown",
   "metadata": {},
   "source": [
    "Note：<br>\n",
    "1.在使用sliding window采样得到输入的时候，end的值为len(token_ids) - max_length的原因是为了防止数组越界，因为如果max_length = 4,而且数据集tokenization之后一共只有5个tokens，那么就只能采样1次。上面的这个例子，没有考虑max_length >= len(token_ids)的情况。\n",
    "\n",
    "2.这里stride控制的是 i 的间隔，也就是说滑动窗口移动的步数, 这就导致了batch中不同sample之间的起始token的间隔。\n",
    "\n",
    "3.range()函数的用法：<br>\n",
    "（1）语法：range(start, end, step)。是生成\\[start, end\\)之间的序列，不是一次性生成，而是iterable的。<br>\n",
    "（2）不能直接输出range(1,3)，如果要输出，则应该使用list(range(1,3))<br>\n",
    "（3）step可以是负数，效果是反向迭代，比如range(10, 0, -2)<br>"
   ]
  },
  {
   "cell_type": "code",
   "execution_count": null,
   "metadata": {},
   "outputs": [],
   "source": [
    "# Create the dataloader\n",
    "def create_dataloader_v1(txt, batch_size = 4, max_length = 256, stride = 128, \\\n",
    "                         shuffle = True, drop_last = True, num_workers = 0):\n",
    "    tokenizer = tiktoken.get_encoding(\"gpt2\")\n",
    "\n",
    "    # 创建dataset\n",
    "    dataset = GPTDatasetV1(txt, tokenizer, max_length, stride)\n",
    "\n",
    "    #使用dataloader将dataset封装为一个dataloader数据加载器    \n",
    "    dataloader = DataLoader(\n",
    "        dataset, \n",
    "        batch_size = batch_size,\n",
    "        shuffle = shuffle,\n",
    "        drop_last = drop_last,\n",
    "        num_workers = num_workers\n",
    "    )\n",
    "\n",
    "    return dataloader"
   ]
  },
  {
   "cell_type": "code",
   "execution_count": null,
   "metadata": {},
   "outputs": [],
   "source": [
    "with open(\"./data/the-verdict.txt\", 'r', encoding='utf-8') as f:\n",
    "    raw_text = f.read()"
   ]
  },
  {
   "cell_type": "code",
   "execution_count": 24,
   "metadata": {},
   "outputs": [],
   "source": [
    "dataloader = create_dataloader_v1(\n",
    "    raw_text,\n",
    "    batch_size = 1,\n",
    "    max_length = 4, \n",
    "    stride = 1,\n",
    "    shuffle = False\n",
    ")"
   ]
  },
  {
   "cell_type": "code",
   "execution_count": null,
   "metadata": {},
   "outputs": [
    {
     "name": "stdout",
     "output_type": "stream",
     "text": [
      "[tensor([[  40,  367, 2885, 1464]]), tensor([[ 367, 2885, 1464, 1807]])]\n"
     ]
    }
   ],
   "source": [
    "data_iter = iter(dataloader)\n",
    "first_batch = next(data_iter)\n",
    "print(first_batch)\n",
    "# 返回的结果里面，第一个tensor是x，每一行代表一个input sample的context。、\n",
    "# 第二个tensor是y，对应位置就是target sample。"
   ]
  },
  {
   "cell_type": "code",
   "execution_count": null,
   "metadata": {},
   "outputs": [
    {
     "name": "stdout",
     "output_type": "stream",
     "text": [
      "[tensor([[ 367, 2885, 1464, 1807]]), tensor([[2885, 1464, 1807, 3619]])]\n"
     ]
    }
   ],
   "source": [
    "second_batch = next(data_iter)\n",
    "print(second_batch)\n",
    "# 可以看到第二个batch和第一个batch之间不同之处，就是往后移动了1个位置，\n",
    "# 这是因为stride = 1。"
   ]
  },
  {
   "cell_type": "code",
   "execution_count": null,
   "metadata": {},
   "outputs": [
    {
     "name": "stdout",
     "output_type": "stream",
     "text": [
      "[tensor([[  40,  367, 2885, 1464]]), tensor([[ 367, 2885, 1464, 1807]])]\n",
      "[tensor([[1464, 1807, 3619,  402]]), tensor([[1807, 3619,  402,  271]])]\n"
     ]
    }
   ],
   "source": [
    "#将stride 修改为 3\n",
    "dataloader = create_dataloader_v1(\n",
    "    raw_text,\n",
    "    batch_size = 1,\n",
    "    max_length = 4, \n",
    "    stride = 3, #修改为3\n",
    "    shuffle = False\n",
    ")\n",
    "\n",
    "data_iter = iter(dataloader)\n",
    "first_batch = next(data_iter)\n",
    "print(first_batch)\n",
    "\n",
    "second_batch = next(data_iter)\n",
    "print(second_batch)\n",
    "\n",
    "# 可以看到修改之后，batch之间的间隔从1变成3了，但是值得注意的是，input和target之间的间隔还是始终为1\n",
    "# 因为任务始终是next token prediciton.\n",
    "# stride仅仅控制batch之间的位置间隔，不控制input和target之间的间隔——在batch_size = 1的时候适用；\n",
    "# 如果batch_size不等于1，那么stride控制的是一个batch内部sample之间起始位置的间隔，或者说控制的是batch\n",
    "# 之间的上一个batch的最后一个sample，与下一个batch的第一个sample之间，起始位置的间隔。"
   ]
  },
  {
   "cell_type": "code",
   "execution_count": 31,
   "metadata": {},
   "outputs": [
    {
     "name": "stdout",
     "output_type": "stream",
     "text": [
      "tensor([[   40,   367,  2885,  1464],\n",
      "        [ 1807,  3619,   402,   271],\n",
      "        [10899,  2138,   257,  7026],\n",
      "        [15632,   438,  2016,   257],\n",
      "        [  922,  5891,  1576,   438],\n",
      "        [  568,   340,   373,   645],\n",
      "        [ 1049,  5975,   284,   502],\n",
      "        [  284,  3285,   326,    11]])\n",
      "tensor([[  367,  2885,  1464,  1807],\n",
      "        [ 3619,   402,   271, 10899],\n",
      "        [ 2138,   257,  7026, 15632],\n",
      "        [  438,  2016,   257,   922],\n",
      "        [ 5891,  1576,   438,   568],\n",
      "        [  340,   373,   645,  1049],\n",
      "        [ 5975,   284,   502,   284],\n",
      "        [ 3285,   326,    11,   287]])\n",
      "tensor([[  287,   262,  6001,   286],\n",
      "        [  465, 13476,    11,   339],\n",
      "        [  550,  5710,   465, 12036],\n",
      "        [   11,  6405,   257,  5527],\n",
      "        [27075,    11,   290,  4920],\n",
      "        [ 2241,   287,   257,  4489],\n",
      "        [   64,   319,   262, 34686],\n",
      "        [41976,    13,   357, 10915]])\n",
      "tensor([[  262,  6001,   286,   465],\n",
      "        [13476,    11,   339,   550],\n",
      "        [ 5710,   465, 12036,    11],\n",
      "        [ 6405,   257,  5527, 27075],\n",
      "        [   11,   290,  4920,  2241],\n",
      "        [  287,   257,  4489,    64],\n",
      "        [  319,   262, 34686, 41976],\n",
      "        [   13,   357, 10915,   314]])\n"
     ]
    }
   ],
   "source": [
    "# 尝试不同的参数组合\n",
    "dataloader = create_dataloader_v1(\n",
    "    raw_text,\n",
    "    batch_size = 8,\n",
    "    max_length = 4, \n",
    "    stride = 4,\n",
    "    shuffle = False\n",
    ")\n",
    "\n",
    "data_iter = iter(dataloader)\n",
    "first_batch_input, first_batch_target  = next(data_iter)\n",
    "print(first_batch_input)\n",
    "print(first_batch_target)\n",
    "\n",
    "second_batch_input, second_batch_target  = next(data_iter)\n",
    "print(second_batch_input)\n",
    "print(second_batch_target)"
   ]
  },
  {
   "cell_type": "code",
   "execution_count": 43,
   "metadata": {},
   "outputs": [
    {
     "name": "stdout",
     "output_type": "stream",
     "text": [
      "token_ids [31373, 995]\n",
      "len(token_ids) 2\n",
      "max_length 2\n",
      "[tensor([[31373,   995]]), tensor([[31373,   995]])]\n"
     ]
    }
   ],
   "source": [
    "# test the case that if the len(token_ids) <= max_length\n",
    "raw_text = \"hello world\"\n",
    "\n",
    "dataloader = create_dataloader_v1(\n",
    "    raw_text,\n",
    "    batch_size = 1,\n",
    "    max_length = 2, # equal to len(token_ids) \n",
    "    stride = 1,\n",
    "    shuffle = False\n",
    ")\n",
    "\n",
    "data_iter = iter(dataloader)\n",
    "first_batch = next(data_iter)\n",
    "print(first_batch)"
   ]
  },
  {
   "cell_type": "markdown",
   "metadata": {},
   "source": [
    "# 6.创建token embeddings"
   ]
  },
  {
   "cell_type": "code",
   "execution_count": 2,
   "metadata": {},
   "outputs": [],
   "source": [
    "import torch\n",
    "input_ids = torch.tensor([2, 3, 5, 1])"
   ]
  },
  {
   "cell_type": "code",
   "execution_count": null,
   "metadata": {},
   "outputs": [],
   "source": [
    "'''Build the embedding layer'''\n",
    "vocab_size = 6\n",
    "embedding_size = 3\n",
    "torch.manual_seed(123)\n",
    "embedding_layer = torch.nn.Embedding(vocab_size, embedding_size)"
   ]
  },
  {
   "cell_type": "code",
   "execution_count": 4,
   "metadata": {},
   "outputs": [
    {
     "name": "stdout",
     "output_type": "stream",
     "text": [
      "Parameter containing:\n",
      "tensor([[ 0.3374, -0.1778, -0.1690],\n",
      "        [ 0.9178,  1.5810,  1.3010],\n",
      "        [ 1.2753, -0.2010, -0.1606],\n",
      "        [-0.4015,  0.9666, -1.1481],\n",
      "        [-1.1589,  0.3255, -0.6315],\n",
      "        [-2.8400, -0.7849, -1.4096]], requires_grad=True)\n"
     ]
    }
   ],
   "source": [
    "# 查看embedding layer的权重矩阵，一行就是词典中的一个token的embedding值\n",
    "print(embedding_layer.weight)"
   ]
  },
  {
   "cell_type": "code",
   "execution_count": null,
   "metadata": {},
   "outputs": [
    {
     "name": "stdout",
     "output_type": "stream",
     "text": [
      "tensor([[-0.4015,  0.9666, -1.1481]], grad_fn=<EmbeddingBackward0>)\n"
     ]
    }
   ],
   "source": [
    "token_ID = torch.tensor([3]) # 注意输入到embedding layer中的token IDs需要是一个sequence类型的变量\n",
    "\n",
    "embedding_result = embedding_layer(token_ID)\n",
    "\n",
    "print(embedding_result) #从结果中看到，embedding layer的操作实际上就是将token ID为3，对应在\n",
    "# 权重矩阵中的第 3 + 1行取出来了。"
   ]
  },
  {
   "cell_type": "code",
   "execution_count": 6,
   "metadata": {},
   "outputs": [
    {
     "name": "stdout",
     "output_type": "stream",
     "text": [
      "tensor([[ 1.2753, -0.2010, -0.1606],\n",
      "        [-0.4015,  0.9666, -1.1481],\n",
      "        [-2.8400, -0.7849, -1.4096],\n",
      "        [ 0.9178,  1.5810,  1.3010]], grad_fn=<EmbeddingBackward0>)\n"
     ]
    }
   ],
   "source": [
    "print(embedding_layer(input_ids))"
   ]
  },
  {
   "cell_type": "markdown",
   "metadata": {},
   "source": [
    "# 7.编码单词位置"
   ]
  },
  {
   "cell_type": "code",
   "execution_count": 10,
   "metadata": {},
   "outputs": [],
   "source": [
    "from torch.utils.data import Dataset, DataLoader\n",
    "import tiktoken\n",
    "# Create the dataset\n",
    "class GPTDatasetV1(Dataset):\n",
    "    def __init__(self, txt, tokenizer, max_length, stride):\n",
    "        self.input_ids = []  # 输入的token序列\n",
    "        self.target_ids = [] # 目标的token序列，包含了要预测的下一个token\n",
    "\n",
    "        # Tokenize the entire text：主要是将text转换为tokens，然后进一步转换为token IDs\n",
    "        token_ids = tokenizer.encode(txt, allowed_special = {\"<|endoftext|>\"})\n",
    "\n",
    "        # print(\"token_ids\", token_ids)\n",
    "        # print(\"len(token_ids)\", len(token_ids))\n",
    "        # print(\"max_length\", max_length)\n",
    "\n",
    "        # 使用滑动窗口将输入截断（chunk）为长度是max_length的重合序列\n",
    "        if len(token_ids) > max_length:\n",
    "            for i in range(0, len(token_ids) - max_length, stride):  #这里没有考虑max_\n",
    "                input_chunk = token_ids[i : i + max_length] \n",
    "                target_chunk = token_ids[i + 1 : i + max_length + 1]\n",
    "                self.input_ids.append(torch.tensor(input_chunk))\n",
    "                self.target_ids.append(torch.tensor(target_chunk))\n",
    "        else:\n",
    "            self.input_ids.append(torch.tensor(token_ids[0 : 0 + max_length]))\n",
    "            self.target_ids.append(torch.tensor(token_ids[0 : 0 + max_length]))\n",
    "\n",
    "    \n",
    "    def __len__(self):\n",
    "        return len(self.input_ids)\n",
    "    \n",
    "    def __getitem__(self, idx):\n",
    "        return self.input_ids[idx], self.target_ids[idx]\n",
    "\n",
    "\n",
    "# Create the dataloader\n",
    "def create_dataloader_v1(txt, batch_size = 4, max_length = 256, stride = 128, \\\n",
    "                         shuffle = True, drop_last = True, num_workers = 0):\n",
    "    tokenizer = tiktoken.get_encoding(\"gpt2\")\n",
    "\n",
    "    # 创建dataset\n",
    "    dataset = GPTDatasetV1(txt, tokenizer, max_length, stride)\n",
    "\n",
    "    #使用dataloader将dataset封装为一个dataloader数据加载器    \n",
    "    dataloader = DataLoader(\n",
    "        dataset, \n",
    "        batch_size = batch_size,\n",
    "        shuffle = shuffle,\n",
    "        drop_last = drop_last,\n",
    "        num_workers = num_workers\n",
    "    )\n",
    "\n",
    "    return dataloader"
   ]
  },
  {
   "cell_type": "code",
   "execution_count": 12,
   "metadata": {},
   "outputs": [
    {
     "name": "stdout",
     "output_type": "stream",
     "text": [
      "torch.Size([8, 4])\n",
      "tensor([[   40,   367,  2885,  1464],\n",
      "        [ 1807,  3619,   402,   271],\n",
      "        [10899,  2138,   257,  7026],\n",
      "        [15632,   438,  2016,   257],\n",
      "        [  922,  5891,  1576,   438],\n",
      "        [  568,   340,   373,   645],\n",
      "        [ 1049,  5975,   284,   502],\n",
      "        [  284,  3285,   326,    11]])\n",
      "tensor([[  367,  2885,  1464,  1807],\n",
      "        [ 3619,   402,   271, 10899],\n",
      "        [ 2138,   257,  7026, 15632],\n",
      "        [  438,  2016,   257,   922],\n",
      "        [ 5891,  1576,   438,   568],\n",
      "        [  340,   373,   645,  1049],\n",
      "        [ 5975,   284,   502,   284],\n",
      "        [ 3285,   326,    11,   287]])\n"
     ]
    }
   ],
   "source": [
    "with open('./data/the-verdict.txt', 'r', encoding = \"utf-8\") as f:\n",
    "    raw_text = f.read()\n",
    "    \n",
    "max_length = 4 #the max length of the input text sequence\n",
    "dataloader = create_dataloader_v1(\n",
    "    raw_text,\n",
    "    batch_size = 8,\n",
    "    max_length = max_length,\n",
    "    stride = max_length,\n",
    "    shuffle = False\n",
    ")\n",
    "\n",
    "data_iter = iter(dataloader)\n",
    "inputs, targets = next(data_iter)\n",
    "print(inputs.shape)\n",
    "print(inputs)\n",
    "print(targets)"
   ]
  },
  {
   "cell_type": "code",
   "execution_count": null,
   "metadata": {},
   "outputs": [
    {
     "name": "stdout",
     "output_type": "stream",
     "text": [
      "torch.Size([50527, 256])\n",
      "torch.Size([8, 4, 256])\n",
      "tensor([[[-0.9961, -0.7245,  0.5243,  ...,  0.3160,  0.8454,  0.5254],\n",
      "         [ 1.8392,  1.9885, -1.0903,  ..., -3.5906,  0.5760, -1.0338],\n",
      "         [ 0.7769,  0.9216,  1.1984,  ..., -1.3357, -1.0217,  1.2155],\n",
      "         [-0.4232,  0.6555, -0.2121,  ..., -0.3099, -0.4058,  1.6633]],\n",
      "\n",
      "        [[-0.9496,  0.1670, -0.2374,  ..., -0.6121, -1.3474, -0.7384],\n",
      "         [ 0.1339, -0.3078, -1.2314,  ..., -1.4314,  0.0537, -0.5918],\n",
      "         [ 0.8556, -0.9086, -1.5803,  ...,  0.4965,  0.6588, -0.0503],\n",
      "         [ 0.5290, -0.4222,  0.4417,  ...,  0.3475,  1.2736,  0.7405]],\n",
      "\n",
      "        [[ 0.1572, -0.1331,  0.0343,  ..., -1.0537,  1.0816, -1.1840],\n",
      "         [ 0.0649,  1.4567,  0.5723,  ..., -0.6309, -0.0122, -0.7484],\n",
      "         [-0.2288,  0.0310, -0.9003,  ...,  1.3783,  2.2769, -1.3849],\n",
      "         [-0.4779, -0.8821,  1.3491,  ...,  1.1138,  1.0921, -0.5777]],\n",
      "\n",
      "        ...,\n",
      "\n",
      "        [[ 1.0000, -1.1018,  1.6081,  ...,  1.4179,  0.7226, -2.2060],\n",
      "         [ 1.8698, -0.0181,  0.5527,  ..., -0.6467,  0.7508, -0.8994],\n",
      "         [-1.7435, -0.6933,  0.6979,  ..., -2.1076, -0.1919, -0.4750],\n",
      "         [-2.5214, -0.2639,  0.4497,  ...,  0.8464,  0.9721, -0.0790]],\n",
      "\n",
      "        [[-1.6805, -0.0157,  0.1628,  ...,  1.4556, -0.1790, -0.3044],\n",
      "         [-0.2715,  1.1226,  0.7839,  ...,  0.0196, -0.7803, -0.4125],\n",
      "         [-1.1747, -0.4796, -0.3379,  ...,  1.0954, -0.5112,  0.0175],\n",
      "         [ 0.4385, -0.3299,  1.3090,  ..., -1.1778, -1.0468, -2.8620]],\n",
      "\n",
      "        [[-1.1747, -0.4796, -0.3379,  ...,  1.0954, -0.5112,  0.0175],\n",
      "         [-0.0507,  0.7300,  1.0697,  ..., -1.4184,  0.6696,  0.3524],\n",
      "         [-0.8195,  0.5930,  0.1254,  ...,  0.5700,  0.4132, -1.5740],\n",
      "         [-0.6599,  0.6549, -0.2173,  ..., -0.1253,  0.6412, -0.3906]]],\n",
      "       grad_fn=<EmbeddingBackward0>)\n"
     ]
    }
   ],
   "source": [
    "import torch\n",
    "\n",
    "'''Build the embedding layer'''\n",
    "vocab_size = 50527 #这是BPE tokenizer的词典大小\n",
    "embedding_size = 256\n",
    "\n",
    "token_embedding_layer = torch.nn.Embedding(vocab_size, embedding_size)\n",
    "token_embeddings = token_embedding_layer(inputs)\n",
    "\n",
    "print(token_embedding_layer.weight.shape)\n",
    "print(token_embeddings.shape)\n",
    "print(token_embeddings)"
   ]
  },
  {
   "cell_type": "code",
   "execution_count": null,
   "metadata": {},
   "outputs": [
    {
     "name": "stdout",
     "output_type": "stream",
     "text": [
      "torch.Size([4, 256])\n",
      "Parameter containing:\n",
      "tensor([[ 0.1814, -0.6311, -1.7249,  ...,  0.1498, -0.0745, -0.2095],\n",
      "        [ 0.9181, -0.2531,  0.0840,  ..., -0.2920,  1.2250,  0.4022],\n",
      "        [ 1.0467,  2.1019,  1.6374,  ...,  0.7027, -0.8164, -1.4810],\n",
      "        [ 0.8972,  0.4451,  0.5464,  ...,  1.1780,  2.3169, -0.5367]],\n",
      "       requires_grad=True)\n"
     ]
    }
   ],
   "source": [
    "'''Using absolute postional embedding'''\n",
    "context_length = max_length\n",
    "pos_embedding_layer = torch.nn.Embedding(context_length, embedding_size)\n",
    "print(pos_embedding_layer.weight.shape)\n",
    "print(pos_embedding_layer.weight)\n",
    "# Note:\n",
    "# 这里第一个参数与token_embedding_layer不同的原因主要是映射关系不一样。\n",
    "# （1）torch.nn.Embedding()层的作用就是将离散的索引映射到密集的固定长度的向量上\n",
    "# 所以token_embedding_layer就是为了建立一个词典中所有token，到embedding_size的映射，\n",
    "# 使得在token IDs ——> embedding这一步，每个token ID都能找到对应的embedding，并且会随着\n",
    "# 模型的训练，这个映射关系会不断地更新\n",
    "# （2）同理对于pos_embedding_layer，但是这个的话，就是映射的位置关系到embedding_size的关系了。"
   ]
  },
  {
   "cell_type": "code",
   "execution_count": null,
   "metadata": {},
   "outputs": [
    {
     "name": "stdout",
     "output_type": "stream",
     "text": [
      "torch.Size([4, 256])\n",
      "tensor([[ 0.1814, -0.6311, -1.7249,  ...,  0.1498, -0.0745, -0.2095],\n",
      "        [ 0.9181, -0.2531,  0.0840,  ..., -0.2920,  1.2250,  0.4022],\n",
      "        [ 1.0467,  2.1019,  1.6374,  ...,  0.7027, -0.8164, -1.4810],\n",
      "        [ 0.8972,  0.4451,  0.5464,  ...,  1.1780,  2.3169, -0.5367]],\n",
      "       grad_fn=<EmbeddingBackward0>)\n"
     ]
    }
   ],
   "source": [
    "'''Get the positional embedding'''\n",
    "pos_embeddings = pos_embedding_layer(torch.arange(max_length))\n",
    "print(pos_embeddings.shape)\n",
    "print(pos_embeddings)"
   ]
  },
  {
   "cell_type": "code",
   "execution_count": null,
   "metadata": {},
   "outputs": [
    {
     "name": "stdout",
     "output_type": "stream",
     "text": [
      "torch.Size([8, 4, 256])\n",
      "tensor([[[-8.1472e-01, -1.3556e+00, -1.2006e+00,  ...,  4.6573e-01,\n",
      "           7.7090e-01,  3.1586e-01],\n",
      "         [ 2.7573e+00,  1.7354e+00, -1.0063e+00,  ..., -3.8826e+00,\n",
      "           1.8010e+00, -6.3164e-01],\n",
      "         [ 1.8235e+00,  3.0235e+00,  2.8358e+00,  ..., -6.3296e-01,\n",
      "          -1.8381e+00, -2.6546e-01],\n",
      "         [ 4.7400e-01,  1.1007e+00,  3.3438e-01,  ...,  8.6812e-01,\n",
      "           1.9110e+00,  1.1265e+00]],\n",
      "\n",
      "        [[-7.6828e-01, -4.6408e-01, -1.9623e+00,  ..., -4.6235e-01,\n",
      "          -1.4219e+00, -9.4794e-01],\n",
      "         [ 1.0520e+00, -5.6085e-01, -1.1475e+00,  ..., -1.7234e+00,\n",
      "           1.2787e+00, -1.8967e-01],\n",
      "         [ 1.9022e+00,  1.1933e+00,  5.7157e-02,  ...,  1.1992e+00,\n",
      "          -1.5762e-01, -1.5313e+00],\n",
      "         [ 1.4263e+00,  2.2958e-02,  9.8815e-01,  ...,  1.5255e+00,\n",
      "           3.5904e+00,  2.0378e-01]],\n",
      "\n",
      "        [[ 3.3852e-01, -7.6413e-01, -1.6906e+00,  ..., -9.0395e-01,\n",
      "           1.0071e+00, -1.3935e+00],\n",
      "         [ 9.8298e-01,  1.2036e+00,  6.5621e-01,  ..., -9.2290e-01,\n",
      "           1.2129e+00, -3.4628e-01],\n",
      "         [ 8.1784e-01,  2.1328e+00,  7.3716e-01,  ...,  2.0810e+00,\n",
      "           1.4605e+00, -2.8658e+00],\n",
      "         [ 4.1932e-01, -4.3698e-01,  1.8956e+00,  ...,  2.2918e+00,\n",
      "           3.4089e+00, -1.1145e+00]],\n",
      "\n",
      "        ...,\n",
      "\n",
      "        [[ 1.1814e+00, -1.7329e+00, -1.1686e-01,  ...,  1.5677e+00,\n",
      "           6.4811e-01, -2.4155e+00],\n",
      "         [ 2.7879e+00, -2.7117e-01,  6.3667e-01,  ..., -9.3873e-01,\n",
      "           1.9758e+00, -4.9726e-01],\n",
      "         [-6.9685e-01,  1.4085e+00,  2.3353e+00,  ..., -1.4049e+00,\n",
      "          -1.0083e+00, -1.9560e+00],\n",
      "         [-1.6241e+00,  1.8122e-01,  9.9614e-01,  ...,  2.0244e+00,\n",
      "           3.2890e+00, -6.1579e-01]],\n",
      "\n",
      "        [[-1.4992e+00, -6.4676e-01, -1.5622e+00,  ...,  1.6053e+00,\n",
      "          -2.5344e-01, -5.1390e-01],\n",
      "         [ 6.4658e-01,  8.6948e-01,  8.6784e-01,  ..., -2.7237e-01,\n",
      "           4.4471e-01, -1.0327e-02],\n",
      "         [-1.2801e-01,  1.6223e+00,  1.2996e+00,  ...,  1.7981e+00,\n",
      "          -1.3276e+00, -1.4635e+00],\n",
      "         [ 1.3357e+00,  1.1524e-01,  1.8554e+00,  ...,  2.0182e-04,\n",
      "           1.2700e+00, -3.3987e+00]],\n",
      "\n",
      "        [[-9.9334e-01, -1.1106e+00, -2.0628e+00,  ...,  1.2451e+00,\n",
      "          -5.8564e-01, -1.9197e-01],\n",
      "         [ 8.6742e-01,  4.7693e-01,  1.1537e+00,  ..., -1.7104e+00,\n",
      "           1.8946e+00,  7.5453e-01],\n",
      "         [ 2.2714e-01,  2.6948e+00,  1.7628e+00,  ...,  1.2727e+00,\n",
      "          -4.0315e-01, -3.0549e+00],\n",
      "         [ 2.3732e-01,  1.1000e+00,  3.2909e-01,  ...,  1.0527e+00,\n",
      "           2.9581e+00, -9.2737e-01]]], grad_fn=<AddBackward0>)\n"
     ]
    }
   ],
   "source": [
    "'''Get the final input_embeddings for LLM'''\n",
    "input_embeddings = token_embeddings + pos_embeddings\n",
    "print(input_embeddings.shape)\n",
    "print(input_embeddings)"
   ]
  }
 ],
 "metadata": {
  "kernelspec": {
   "display_name": "pytorch",
   "language": "python",
   "name": "python3"
  },
  "language_info": {
   "codemirror_mode": {
    "name": "ipython",
    "version": 3
   },
   "file_extension": ".py",
   "mimetype": "text/x-python",
   "name": "python",
   "nbconvert_exporter": "python",
   "pygments_lexer": "ipython3",
   "version": "3.9.19"
  }
 },
 "nbformat": 4,
 "nbformat_minor": 2
}
