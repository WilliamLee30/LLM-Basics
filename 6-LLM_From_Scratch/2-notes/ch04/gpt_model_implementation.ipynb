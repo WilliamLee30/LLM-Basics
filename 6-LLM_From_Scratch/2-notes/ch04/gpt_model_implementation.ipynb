{
 "cells": [
  {
   "cell_type": "markdown",
   "id": "b725bb22",
   "metadata": {},
   "source": [
    "# 1.LLM Architecture "
   ]
  },
  {
   "cell_type": "markdown",
   "id": "2fff350c",
   "metadata": {},
   "source": [
    "1.GPT类型的大模型包括一下几个部分：\n",
    "- token and positional embeddings\n",
    "- dropout\n",
    "- 一系列transformer blocks\n",
    "- 一个layer normalization\n",
    "- 一个输出的linear layer(输出最终的logits) "
   ]
  },
  {
   "cell_type": "markdown",
   "id": "18d15f0d",
   "metadata": {},
   "source": [
    "Q: PDF书中的 Figure 4.4中说GPT model输出的vector的维度与input token embedding 维度是一样的，但是在 section 4.1的最后，对于输出的logits的介绍中发现，输出的logits中每个token的维度是vocab_size的大小，这就和Figure 4.4中不一致了，后续需要确认一下。"
   ]
  }
 ],
 "metadata": {
  "language_info": {
   "name": "python"
  }
 },
 "nbformat": 4,
 "nbformat_minor": 5
}
