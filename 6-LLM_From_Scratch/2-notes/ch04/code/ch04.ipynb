{
 "cells": [
  {
   "cell_type": "markdown",
   "id": "e7482670",
   "metadata": {},
   "source": [
    "# 1.GPT模型的架构"
   ]
  },
  {
   "cell_type": "code",
   "execution_count": 1,
   "id": "158cee6a",
   "metadata": {},
   "outputs": [],
   "source": [
    "'''124M GPT-2的参数设置'''\n",
    "GPT_CONFIG_124M = {\n",
    "    \"vocab_size\": 50527, #vocabulary size\n",
    "    \"context_length\": 1024, #context length\n",
    "    \"emb_dim\": 768, #embedding dimension\n",
    "    \"n_heads\": 12, #number of attention heads\n",
    "    \"n_layers\": 12, #number of layers(transformer blocks)\n",
    "    \"drop_rate\": 0.1, #dropout rate\n",
    "    \"qkv_bias\": False #query-key-value bias\n",
    "}"
   ]
  },
  {
   "cell_type": "code",
   "execution_count": 10,
   "id": "52db9e96",
   "metadata": {},
   "outputs": [],
   "source": [
    "'''一个虚拟的GPT模型的架构'''\n",
    "import torch\n",
    "import torch.nn as nn\n",
    "\n",
    "class DummyGPTModel(nn.Module):\n",
    "    def __init__(self, cfg):\n",
    "        super().__init__()\n",
    "        self.tok_emb = nn.Embedding(cfg[\"vocab_size\"], cfg[\"emb_dim\"])\n",
    "        self.pos_emb = nn.Embedding(cfg[\"context_length\"], cfg[\"emb_dim\"])\n",
    "        self.drop_emb = nn.Dropout(cfg[\"drop_rate\"])\n",
    "\n",
    "        #Transformer block\n",
    "        self.trf_blocks = nn.Sequential(\n",
    "            *[DummyTransformerBlock(cfg) for _ in range(cfg[\"n_layers\"])]\n",
    "        )\n",
    "\n",
    "        #Layer Normalization\n",
    "        self.final_norm = DummyLayerNorm(cfg[\"emb_dim\"])\n",
    "        \n",
    "        #Output\n",
    "        self.out_head = nn.Linear(\n",
    "            cfg[\"emb_dim\"], cfg[\"vocab_size\"], bias = False\n",
    "        )\n",
    "\n",
    "\n",
    "    def forward(self, in_idx):\n",
    "        batch_size, seq_length = in_idx.shape\n",
    "\n",
    "        tok_embeds = self.tok_emb(in_idx)\n",
    "        pos_embeds = self.pos_emb(torch.arange(seq_length, device = in_idx.device))\n",
    "        x = tok_embeds + pos_embeds\n",
    "       \n",
    "        x = self.drop_emb(x)\n",
    "\n",
    "        x= self.trf_blocks(x)\n",
    "\n",
    "        x = self.final_norm(x)\n",
    "\n",
    "        logits = self.out_head(x)\n",
    "\n",
    "        return logits\n",
    "\n",
    "\n",
    "class DummyTransformerBlock(nn.Module):\n",
    "    def __init__(self, cfg):\n",
    "        super().__init__()\n",
    "        # Implementation of transformer blocks\n",
    "\n",
    "    def forward(self, x):\n",
    "        \n",
    "        return x\n",
    "\n",
    "class DummyLayerNorm(nn.Module):\n",
    "    def __init__(self, normalized_shape, eps = 1e-5):\n",
    "        super().__init__()\n",
    "        #The implementation of layer normalization\n",
    "\n",
    "    def forward(self, x):\n",
    "\n",
    "        return x\n"
   ]
  },
  {
   "cell_type": "code",
   "execution_count": null,
   "id": "4432dd12",
   "metadata": {},
   "outputs": [
    {
     "name": "stdout",
     "output_type": "stream",
     "text": [
      "tensor([[6109, 3626, 6100,  345],\n",
      "        [6109, 1110, 6622,  257]])\n"
     ]
    }
   ],
   "source": [
    "'''测试虚拟的GPT模型的输出'''\n",
    "\n",
    "import tiktoken\n",
    "\n",
    "# 1.构造数据\n",
    "tokenizer  = tiktoken.get_encoding(\"gpt2\")\n",
    "\n",
    "batch = []\n",
    "\n",
    "txt1 = \"Every effort moves you\"\n",
    "txt2 = \"Every day holds a\"\n",
    "\n",
    "batch.append(torch.tensor(tokenizer.encode(txt1)))\n",
    "batch.append(torch.tensor(tokenizer.encode(txt2)))\n",
    "\n",
    "batch = torch.stack(batch, dim = 0)\n",
    "\n",
    "print(batch)"
   ]
  },
  {
   "cell_type": "code",
   "execution_count": 11,
   "id": "c59b3f9d",
   "metadata": {},
   "outputs": [
    {
     "name": "stdout",
     "output_type": "stream",
     "text": [
      "torch.Size([2, 4, 50527])\n",
      "tensor([[[-0.5076,  0.5526, -1.3087,  ..., -1.2430, -0.1799,  0.2840],\n",
      "         [ 0.4162,  0.5258, -0.2680,  ..., -0.6662, -0.0434, -1.7204],\n",
      "         [ 0.2720,  0.5737,  0.2196,  ..., -0.4875, -2.2169, -0.8551],\n",
      "         [ 1.7329, -0.0533,  0.9222,  ..., -0.8311, -0.3060,  0.1644]],\n",
      "\n",
      "        [[-0.4748,  1.0586, -0.6434,  ..., -0.9168,  0.2064, -0.3204],\n",
      "         [-0.4063, -0.6273,  0.9828,  ..., -0.6344,  0.0545, -0.0326],\n",
      "         [-0.2660, -1.7609,  0.6074,  ..., -1.1383, -0.7710, -0.9709],\n",
      "         [ 0.5479, -1.3437,  1.2603,  ...,  0.6285, -0.2088, -2.5608]]],\n",
      "       grad_fn=<UnsafeViewBackward0>)\n"
     ]
    }
   ],
   "source": [
    "torch.manual_seed(123)\n",
    "\n",
    "model =  DummyGPTModel(GPT_CONFIG_124M)\n",
    "\n",
    "logits = model(batch)\n",
    "\n",
    "print(logits.shape)\n",
    "print(logits)"
   ]
  },
  {
   "cell_type": "markdown",
   "id": "76ea0240",
   "metadata": {},
   "source": [
    "# 2.Layer Normalization"
   ]
  },
  {
   "cell_type": "code",
   "execution_count": null,
   "id": "6064aae2",
   "metadata": {},
   "outputs": [
    {
     "name": "stdout",
     "output_type": "stream",
     "text": [
      "tensor([[0.2260, 0.3470, 0.0000, 0.2216, 0.0000, 0.0000],\n",
      "        [0.2133, 0.2394, 0.0000, 0.5198, 0.3297, 0.0000]],\n",
      "       grad_fn=<ReluBackward0>)\n"
     ]
    }
   ],
   "source": [
    "'''得到神经网络某一层的输出激活值'''\n",
    "torch.manual_seed(123)\n",
    "\n",
    "# create 2 training examples with 5 dimensions (features) each\n",
    "batch_example = torch.randn(2, 5) \n",
    "\n",
    "layer = nn.Sequential(nn.Linear(5, 6), nn.ReLU())\n",
    "out = layer(batch_example)\n",
    "print(out)"
   ]
  },
  {
   "cell_type": "code",
   "execution_count": null,
   "id": "f8e23495",
   "metadata": {},
   "outputs": [
    {
     "name": "stdout",
     "output_type": "stream",
     "text": [
      "tensor([[0.1324],\n",
      "        [0.2170]], grad_fn=<MeanBackward1>)\n",
      "tensor([[0.0231],\n",
      "        [0.0398]], grad_fn=<VarBackward0>)\n"
     ]
    }
   ],
   "source": [
    "#查看输出激活值的均值和方差\n",
    "mean = out.mean(dim = -1, keepdim = True) #keepdim参数的作用是使输出的维度和原始的维度保持一致\n",
    "var = out.var(dim = -1, keepdim = True)\n",
    "\n",
    "print(mean)\n",
    "print(var)"
   ]
  },
  {
   "cell_type": "code",
   "execution_count": null,
   "id": "c9cb88fd",
   "metadata": {},
   "outputs": [
    {
     "name": "stdout",
     "output_type": "stream",
     "text": [
      "tensor([[ 0.6159,  1.4126, -0.8719,  0.5872, -0.8719, -0.8719],\n",
      "        [-0.0189,  0.1121, -1.0876,  1.5173,  0.5647, -1.0876]],\n",
      "       grad_fn=<DivBackward0>)\n",
      "Mean:\n",
      " tensor([[9.9341e-09],\n",
      "        [5.9605e-08]], grad_fn=<MeanBackward1>)\n",
      "Variance:\n",
      " tensor([[1.0000],\n",
      "        [1.0000]], grad_fn=<VarBackward0>)\n"
     ]
    }
   ],
   "source": [
    "'''使得均值为0 方差为1 的方法：减去均值并且除以方差的平方根'''\n",
    "out_norm = (out - mean) / torch.sqrt(var)\n",
    "print(out_norm)\n",
    "\n",
    "mean = out_norm.mean(dim=-1, keepdim=True)\n",
    "var = out_norm.var(dim=-1, keepdim=True)\n",
    "print(\"Mean:\\n\", mean)\n",
    "print(\"Variance:\\n\", var)"
   ]
  },
  {
   "cell_type": "code",
   "execution_count": 16,
   "id": "2853531e",
   "metadata": {},
   "outputs": [
    {
     "name": "stdout",
     "output_type": "stream",
     "text": [
      "tensor([[    0.0000],\n",
      "        [    0.0000]], grad_fn=<MeanBackward1>)\n",
      "tensor([[1.0000],\n",
      "        [1.0000]], grad_fn=<VarBackward0>)\n"
     ]
    }
   ],
   "source": [
    "# 注意到上面进行normalization之后，均值并不严格为0，而是接近0的一个小数。\n",
    "# 可以通过下面的方式实现：禁用科学计算\n",
    "torch.set_printoptions(sci_mode = False)\n",
    "print(mean)\n",
    "print(var)"
   ]
  },
  {
   "cell_type": "code",
   "execution_count": 19,
   "id": "9eafda62",
   "metadata": {},
   "outputs": [],
   "source": [
    "'''Layer Normalization的实现'''\n",
    "class LayerNorm(nn.Module):\n",
    "    def __init__(self, emb_dim):\n",
    "        super().__init__()\n",
    "        self.eps = 1e-5 #用于避免出现除以0的情况\n",
    "        # 下面这两个参数是可学习的参数，用于在训练过程中提升模型的性能\n",
    "        self.scale = nn.Parameter(torch.ones(emb_dim))\n",
    "        self.shift = nn.Parameter(torch.zeros(emb_dim))\n",
    "\n",
    "    def forward(self, x):\n",
    "        mean = x.mean(dim = -1, keepdim = True)\n",
    "        var = x.var(dim = -1, keepdim = True, unbiased = False)\n",
    "        \n",
    "        norm_x = (x - mean) / torch.sqrt(var + self.eps)\n",
    "\n",
    "        return self.scale * norm_x + self.shift"
   ]
  },
  {
   "cell_type": "code",
   "execution_count": 32,
   "id": "c105da41",
   "metadata": {},
   "outputs": [
    {
     "name": "stdout",
     "output_type": "stream",
     "text": [
      "Mean:\n",
      " tensor([[    -0.0000],\n",
      "        [     0.0000]], grad_fn=<MeanBackward1>)\n",
      "Variance:\n",
      " tensor([[1.0000],\n",
      "        [1.0000]], grad_fn=<VarBackward0>)\n"
     ]
    }
   ],
   "source": [
    "# 测试layer normalization\n",
    "ln = LayerNorm(emb_dim = 5)\n",
    "\n",
    "torch.manual_seed(123)\n",
    "\n",
    "# create 2 training examples with 5 dimensions (features) each\n",
    "batch_example = torch.randn(2, 5) \n",
    "out_ln = ln(batch_example)\n",
    "\n",
    "mean = out_ln.mean(dim=-1, keepdim=True)\n",
    "var = out_ln.var(dim=-1, unbiased=False, keepdim=True)\n",
    "\n",
    "print(\"Mean:\\n\", mean)\n",
    "print(\"Variance:\\n\", var)\n"
   ]
  },
  {
   "cell_type": "markdown",
   "id": "a7317420",
   "metadata": {},
   "source": [
    "# 3.带GELU激活函数的FFN"
   ]
  },
  {
   "cell_type": "code",
   "execution_count": 1,
   "id": "9b525722",
   "metadata": {},
   "outputs": [],
   "source": [
    "'''GELU函数的代码实现'''\n",
    "import torch.nn as nn\n",
    "\n",
    "class GELU(nn.Module):\n",
    "    def __init__(self):\n",
    "        super().__init__()\n",
    "    \n",
    "    def forward(self, x):\n",
    "\n",
    "        return 0.5 * x * (1 + torch.tanh(\n",
    "            torch.sqrt(torch.tensor(2.0 / torch.pi)) * \n",
    "            (x + 0.44715 * torch.pow(x, 3))\n",
    "        ))"
   ]
  },
  {
   "cell_type": "code",
   "execution_count": 6,
   "id": "ecca0579",
   "metadata": {},
   "outputs": [
    {
     "data": {
      "image/png": "[encoded data removed]",
      "text/plain": [
       "<Figure size 800x300 with 2 Axes>"
      ]
     },
     "metadata": {},
     "output_type": "display_data"
    }
   ],
   "source": [
    "'''对比ReLU和GELU函数'''\n",
    "import torch\n",
    "gelu, relu = GELU(), nn.ReLU()\n",
    "\n",
    "# 测试数据\n",
    "x = torch.linspace(-3, 3, 1000)\n",
    "y_gelu, y_relu = gelu(x), relu(x)\n",
    "\n",
    "\n",
    "import matplotlib.pyplot as plt\n",
    "plt.figure(figsize=(8,3))\n",
    "\n",
    "for i, (y, label) in enumerate(zip([y_gelu, y_relu], [\"GELU\", \"ReLU\"]), 1):\n",
    "    plt.subplot(1, 2, i)\n",
    "    plt.plot(x, y)\n",
    "    plt.title(f\"{label}\")\n",
    "    plt.xlabel(\"x\")\n",
    "    plt.ylabel(f\"{label}(x)\")\n",
    "    plt.grid(True)\n",
    "\n",
    "plt.tight_layout()\n",
    "plt.show()"
   ]
  },
  {
   "cell_type": "code",
   "execution_count": 7,
   "id": "d151dd47",
   "metadata": {},
   "outputs": [],
   "source": [
    "'''FFN前向传播网络'''\n",
    "class FeedForward(nn.Module):\n",
    "    def __init__(self, cfg):\n",
    "        super().__init__()\n",
    "        self.layers = nn.Sequential(\n",
    "            nn.Linear(cfg[\"emb_dim\"], 4 * cfg[\"emb_dim\"]),\n",
    "            GELU(),\n",
    "            nn.Linear(4 * cfg[\"emb_dim\"], cfg[\"emb_dim\"])\n",
    "        )\n",
    "\n",
    "    def forward(self, x):\n",
    "        return self.layers(x)"
   ]
  },
  {
   "cell_type": "code",
   "execution_count": 8,
   "id": "201d4d86",
   "metadata": {},
   "outputs": [
    {
     "name": "stdout",
     "output_type": "stream",
     "text": [
      "torch.Size([2, 3, 768])\n"
     ]
    }
   ],
   "source": [
    "'''124M GPT-2的参数设置'''\n",
    "GPT_CONFIG_124M = {\n",
    "    \"vocab_size\": 50527, #vocabulary size\n",
    "    \"context_length\": 1024, #context length\n",
    "    \"emb_dim\": 768, #embedding dimension\n",
    "    \"n_heads\": 12, #number of attention heads\n",
    "    \"n_layers\": 12, #number of layers(transformer blocks)\n",
    "    \"drop_rate\": 0.1, #dropout rate\n",
    "    \"qkv_bias\": False #query-key-value bias\n",
    "}\n",
    "\n",
    "ffn = FeedForward(GPT_CONFIG_124M)\n",
    "\n",
    "# Dummy input:[batch_size, num_token, emb_size]\n",
    "x = torch.randn(2, 3, 768)\n",
    "\n",
    "out = ffn(x)\n",
    "\n",
    "print(out.shape)"
   ]
  },
  {
   "cell_type": "markdown",
   "id": "db4f8ea9",
   "metadata": {},
   "source": [
    "# 4.shortcut connection"
   ]
  },
  {
   "cell_type": "code",
   "execution_count": 10,
   "id": "c115b165",
   "metadata": {},
   "outputs": [],
   "source": [
    "'''带/不带 跳跃连接深度神经网络'''\n",
    "class ExampleDeepNeuralNetwork(nn.Module):\n",
    "    def __init__(self, layer_sizes, use_shortcut):\n",
    "        super().__init__()\n",
    "        self.use_shortcut = use_shortcut\n",
    "        self.layers = nn.ModuleList([\n",
    "            nn.Sequential(nn.Linear(layer_sizes[0], layer_sizes[1]), GELU()),\n",
    "            nn.Sequential(nn.Linear(layer_sizes[1], layer_sizes[2]), GELU()),\n",
    "            nn.Sequential(nn.Linear(layer_sizes[2], layer_sizes[3]), GELU()),\n",
    "            nn.Sequential(nn.Linear(layer_sizes[3], layer_sizes[4]), GELU()),\n",
    "            nn.Sequential(nn.Linear(layer_sizes[4], layer_sizes[5]), GELU())\n",
    "        ])\n",
    "\n",
    "    def forward(self, x):\n",
    "        for layer in self.layers:\n",
    "            # 1.计算当前layer的输出\n",
    "            layer_output = layer(x)\n",
    "            # 2.检查是否启用跳跃连接\n",
    "            if self.use_shortcut and x.shape == layer_output.shape:\n",
    "                x = x + layer_output  # <—— 将输入与当前层的输出相加，作为下一层的输入\n",
    "            else:\n",
    "                x = layer_output\n",
    "        \n",
    "        return x\n",
    "            "
   ]
  },
  {
   "cell_type": "code",
   "execution_count": 11,
   "id": "ebed94bb",
   "metadata": {},
   "outputs": [],
   "source": [
    "# 定义打印梯度的函数\n",
    "def print_gradients(model, x):\n",
    "    # Forward pass\n",
    "    output = model(x)\n",
    "    target = torch.tensor([[0.]])\n",
    "\n",
    "    # Calculate loss based on how close the target\n",
    "    # and output are\n",
    "    loss = nn.MSELoss()\n",
    "    loss = loss(output, target)\n",
    "    \n",
    "    # Backward pass to calculate the gradients\n",
    "    loss.backward()\n",
    "\n",
    "    for name, param in model.named_parameters():\n",
    "        if 'weight' in name:\n",
    "            # Print the mean absolute gradient of the weights\n",
    "            print(f\"{name} has gradient mean of {param.grad.abs().mean().item()}\")\n",
    "\n"
   ]
  },
  {
   "cell_type": "code",
   "execution_count": null,
   "id": "8a84f74a",
   "metadata": {},
   "outputs": [
    {
     "name": "stdout",
     "output_type": "stream",
     "text": [
      "layers.0.0.weight has gradient mean of 0.00020471324387472123\n",
      "layers.1.0.weight has gradient mean of 0.0001231795467901975\n",
      "layers.2.0.weight has gradient mean of 0.0007344747427850962\n",
      "layers.3.0.weight has gradient mean of 0.0013871216215193272\n",
      "layers.4.0.weight has gradient mean of 0.005026496481150389\n",
      "==================================================\n",
      "layers.0.0.weight has gradient mean of 0.29920274019241333\n",
      "layers.1.0.weight has gradient mean of 0.2749510407447815\n",
      "layers.2.0.weight has gradient mean of 0.454661101102829\n",
      "layers.3.0.weight has gradient mean of 0.3629586696624756\n",
      "layers.4.0.weight has gradient mean of 1.763088583946228\n"
     ]
    }
   ],
   "source": [
    "# 测试\n",
    "layer_sizes = [3, 3, 3, 3, 3, 1]  \n",
    "\n",
    "sample_input = torch.tensor([[1., 0., -1.]])\n",
    "\n",
    "torch.manual_seed(123)\n",
    "# 1. 不带跳跃连接的 DNN\n",
    "model_without_shortcut = ExampleDeepNeuralNetwork(\n",
    "    layer_sizes=layer_sizes,\n",
    "    use_shortcut=False\n",
    ")\n",
    "\n",
    "print_gradients(model_without_shortcut, sample_input)\n",
    "\n",
    "print(\"=\" * 50)\n",
    "\n",
    "# 2. 带跳跃连接的DNN\n",
    "torch.manual_seed(123)\n",
    "model_with_shortcut = ExampleDeepNeuralNetwork(\n",
    "    layer_sizes=layer_sizes,\n",
    "    use_shortcut=True\n",
    ")\n",
    "print_gradients(model_with_shortcut, sample_input)"
   ]
  },
  {
   "cell_type": "markdown",
   "id": "a70f3daa",
   "metadata": {},
   "source": [
    "# 5. transformer block"
   ]
  },
  {
   "cell_type": "code",
   "execution_count": null,
   "id": "db845003",
   "metadata": {},
   "outputs": [],
   "source": [
    "from MulitHeadAttention import MultiHeadAttention\n",
    "import torch.nn as nn\n",
    "\n",
    "class TransformerBlock(nn.Module):\n",
    "    def __init__(self, cfg):\n",
    "        super().__init__()\n",
    "        # 1.多头注意力模块\n",
    "        self.att = MultiHeadAttention(\n",
    "            d_in=cfg[\"emb_dim\"],\n",
    "            d_out = cfg[\"emb_dim\"],\n",
    "            context_length = cfg[\"context_length\"],\n",
    "            num_heads=cfg[\"n_heads\"],\n",
    "            dropout=cfg[\"drop_rate\"],\n",
    "            qkv_bias=cfg[\"qkv_bias\"]\n",
    "        )\n",
    "\n",
    "        # 2.FFN模块\n",
    "        self.ff = FeedForward(cfg)\n",
    "\n",
    "        # 3.Layer Normalization模块，分别设置的原因是其中有可学习的参数\n",
    "        self.norm1 = LayerNorm(cfg[\"emb_dim\"])\n",
    "        self.norm2 = LayerNorm(cfg[\"emb_dim\"])\n",
    "\n",
    "        # 4.dropout\n",
    "        self.drop_shortcut = nn.Dropout(cfg[\"drop_rate\"])\n",
    "\n",
    "    def forward(self, x):\n",
    "        # Step 1:多头注意力机制, 启用跳跃连接\n",
    "        shortcut = x\n",
    "\n",
    "        x = self.norm1(x)\n",
    "        x = self.att(x)\n",
    "        x = self.drop_shortcut(x)\n",
    "\n",
    "        x = x + shortcut #将输入加在输出上，作为下一个模块的输入\n",
    "\n",
    "        # Step 2:前向传播网络，启用跳跃连接\n",
    "        shortcut = x\n",
    "\n",
    "        x = self.norm2(x)\n",
    "        x = self.ff(x)\n",
    "        x = self.drop_shortcut(x)\n",
    "\n",
    "        x = x + shortcut \n",
    "\n",
    "\n",
    "        return x "
   ]
  },
  {
   "cell_type": "code",
   "execution_count": 22,
   "id": "e61cc7a7",
   "metadata": {},
   "outputs": [
    {
     "name": "stdout",
     "output_type": "stream",
     "text": [
      "torch.Size([2, 4, 768])\n",
      "torch.Size([2, 4, 768])\n"
     ]
    }
   ],
   "source": [
    "'''测试Transformer block的输出'''\n",
    "\n",
    "# 124M GPT-2的参数设置\n",
    "GPT_CONFIG_124M = {\n",
    "    \"vocab_size\": 50527, #vocabulary size\n",
    "    \"context_length\": 1024, #context length\n",
    "    \"emb_dim\": 768, #embedding dimension\n",
    "    \"n_heads\": 12, #number of attention heads\n",
    "    \"n_layers\": 12, #number of layers(transformer blocks)\n",
    "    \"drop_rate\": 0.1, #dropout rate\n",
    "    \"qkv_bias\": False #query-key-value bias\n",
    "}\n",
    "\n",
    "torch.manual_seed(123)\n",
    "x = torch.rand(2, 4, 768)\n",
    "block = TransformerBlock(GPT_CONFIG_124M)\n",
    "\n",
    "output = block(x)\n",
    "\n",
    "print(x.shape)\n",
    "print(output.shape)\n"
   ]
  },
  {
   "cell_type": "markdown",
   "id": "33e65606",
   "metadata": {},
   "source": [
    "# 6.GPT model"
   ]
  },
  {
   "cell_type": "code",
   "execution_count": 31,
   "id": "f902b1c6",
   "metadata": {},
   "outputs": [],
   "source": [
    "'''GPT模型类的实现'''\n",
    "import torch.nn as nn\n",
    "class GPTModel(nn.Module):\n",
    "    def __init__(self, cfg):\n",
    "        super().__init__()\n",
    "\n",
    "        # 1.token and position embedding\n",
    "        self.tok_emb = nn.Embedding(cfg[\"vocab_size\"], cfg[\"emb_dim\"])\n",
    "        self.pos_emb = nn.Embedding(cfg[\"context_length\"], cfg[\"emb_dim\"])\n",
    "\n",
    "        # 2. dropout layer\n",
    "        self.drop_emb = nn.Dropout(cfg[\"drop_rate\"])\n",
    "        \n",
    "        # 3. transformer blocks\n",
    "        self.trf_blocks = nn.Sequential(\n",
    "            *[TransformerBlock(cfg) for _ in range(cfg[\"n_layers\"])]\n",
    "        )\n",
    "\n",
    "        # 4. layer normalization\n",
    "        self.final_norm = LayerNorm(cfg[\"emb_dim\"])\n",
    "\n",
    "        # 5. output linear layer\n",
    "\n",
    "        self.out_head = nn.Linear(\n",
    "            cfg[\"emb_dim\"], cfg[\"vocab_size\"], bias = False\n",
    "        )\n",
    "\n",
    "    def forward(self, in_idx):\n",
    "        batch_size, seq_len = in_idx.shape\n",
    "\n",
    "        tok_embeds = self.tok_emb(in_idx)\n",
    "        # 这里之所以用torch.arange()，是为了处理输入的seq_len < context_length的情况\n",
    "        pos_embeds = self.pos_emb(torch.arange(seq_len, device=in_idx.device))\n",
    "        x = tok_embeds + pos_embeds  # Shape [batch_size, num_tokens, emb_size]\n",
    "        \n",
    "        x = self.drop_emb(x)\n",
    "        \n",
    "        x = self.trf_blocks(x)\n",
    "        \n",
    "        x = self.final_norm(x)\n",
    "        \n",
    "        logits = self.out_head(x)\n",
    "        return logits"
   ]
  },
  {
   "cell_type": "code",
   "execution_count": 33,
   "id": "0f14d87a",
   "metadata": {},
   "outputs": [
    {
     "name": "stdout",
     "output_type": "stream",
     "text": [
      "tensor([[6109, 3626, 6100,  345],\n",
      "        [6109, 1110, 6622,  257]])\n",
      "torch.Size([2, 4, 50527])\n",
      "tensor([[[-0.5877,  0.8573, -0.2601,  ...,  0.3107,  0.4342,  0.8528],\n",
      "         [ 0.0712, -0.1176,  0.2643,  ...,  0.1433, -0.3264, -0.1630],\n",
      "         [-0.6378,  0.0947, -0.2607,  ..., -0.2314, -0.9811,  0.3972],\n",
      "         [-0.2141,  0.2604, -0.2470,  ...,  0.2904, -0.5390,  0.2703]],\n",
      "\n",
      "        [[-0.7258,  0.6511,  0.3790,  ..., -0.1726,  0.0351,  1.0781],\n",
      "         [ 0.5047,  0.4110, -0.2189,  ..., -0.4933, -0.4000,  0.5538],\n",
      "         [ 0.2778,  0.2747,  0.0131,  ...,  0.5906,  0.2540,  0.9131],\n",
      "         [ 0.4185,  0.6752, -0.4666,  ...,  0.6094, -0.1796,  0.8730]]],\n",
      "       grad_fn=<UnsafeViewBackward0>)\n"
     ]
    }
   ],
   "source": [
    "'''测试GPT模型'''\n",
    "import tiktoken\n",
    "\n",
    "# 1.构造数据\n",
    "tokenizer  = tiktoken.get_encoding(\"gpt2\")\n",
    "\n",
    "batch = []\n",
    "\n",
    "txt1 = \"Every effort moves you\"\n",
    "txt2 = \"Every day holds a\"\n",
    "\n",
    "batch.append(torch.tensor(tokenizer.encode(txt1)))\n",
    "batch.append(torch.tensor(tokenizer.encode(txt2)))\n",
    "\n",
    "batch = torch.stack(batch, dim = 0)\n",
    "\n",
    "print(batch)\n",
    "\n",
    "# 2.得到模型输出\n",
    "torch.manual_seed(123)\n",
    "# 124M GPT-2的参数设置\n",
    "GPT_CONFIG_124M = {\n",
    "    \"vocab_size\": 50527, #vocabulary size\n",
    "    \"context_length\": 1024, #context length\n",
    "    \"emb_dim\": 768, #embedding dimension\n",
    "    \"n_heads\": 12, #number of attention heads\n",
    "    \"n_layers\": 12, #number of layers(transformer blocks)\n",
    "    \"drop_rate\": 0.1, #dropout rate\n",
    "    \"qkv_bias\": False #query-key-value bias\n",
    "}\n",
    "\n",
    "model = GPTModel(GPT_CONFIG_124M)\n",
    "\n",
    "output = model(batch)\n",
    "print(output.shape)\n",
    "print(output)\n"
   ]
  },
  {
   "cell_type": "code",
   "execution_count": null,
   "id": "79d9c883",
   "metadata": {},
   "outputs": [
    {
     "name": "stdout",
     "output_type": "stream",
     "text": [
      "163424256\n",
      "torch.Size([50527, 768])\n",
      "torch.Size([50527, 768])\n",
      "124619520\n"
     ]
    }
   ],
   "source": [
    "'''计算模型的参数量'''\n",
    "total_params = sum(p.numel() for p in model.parameters())\n",
    "print(total_params)\n",
    "\n",
    "# Note:\n",
    "# 可以发现，计算出来的参数量是163M，这和官方给的124M不一样，原因是GPT-2模型使用了\n",
    "# 权重绑定技术,将token embedding layer和output layer的参数权重共享了，因为它们的shape\n",
    "# 是一样的。\n",
    "print(model.tok_emb.weight.shape)\n",
    "print(model.out_head.weight.shape)\n",
    "\n",
    "# 那么，如果将token embedding layer或者output layer的参数，减掉其中一个，就可以了\n",
    "total_params_gpt2 = total_params - sum(p.numel() for p in model.out_head.parameters())\n",
    "print(total_params_gpt2) #这才是实际的模型参数量"
   ]
  },
  {
   "cell_type": "code",
   "execution_count": null,
   "id": "e1cadbc8",
   "metadata": {},
   "outputs": [
    {
     "name": "stdout",
     "output_type": "stream",
     "text": [
      "623.4140625\n"
     ]
    }
   ],
   "source": [
    "'''计算模型的内存占用量'''\n",
    "# 假设使用float32精度，每个参数占4个字节（byte）。\n",
    "total_size_bytes = total_params * 4\n",
    "\n",
    "# 转换为M\n",
    "total_size_M = total_size_bytes / (1024 * 1024)\n",
    "print(total_size_M)"
   ]
  },
  {
   "cell_type": "markdown",
   "id": "5c20d8d2",
   "metadata": {},
   "source": [
    "## 练习"
   ]
  },
  {
   "cell_type": "markdown",
   "id": "479b440e",
   "metadata": {},
   "source": [
    "### 练习4.1 计算多头注意力模块和输出头模块的参数量"
   ]
  },
  {
   "cell_type": "code",
   "execution_count": null,
   "id": "f12b2a6c",
   "metadata": {},
   "outputs": [
    {
     "name": "stdout",
     "output_type": "stream",
     "text": [
      "85026816\n",
      "38804736\n",
      "123831552\n"
     ]
    }
   ],
   "source": [
    "attn_params = sum(p.numel() for p in model.trf_blocks.parameters())\n",
    "print(attn_params)\n",
    "\n",
    "ffn_params = sum(p.numel() for p in model.out_head.parameters())\n",
    "print(ffn_params)\n",
    "\n",
    "print(attn_params + ffn_params)\n"
   ]
  },
  {
   "cell_type": "code",
   "execution_count": null,
   "id": "7bdd9953",
   "metadata": {},
   "outputs": [
    {
     "name": "stdout",
     "output_type": "stream",
     "text": [
      "TransformerBlock(\n",
      "  (att): MultiHeadAttention(\n",
      "    (W_query): Linear(in_features=768, out_features=768, bias=False)\n",
      "    (W_key): Linear(in_features=768, out_features=768, bias=False)\n",
      "    (W_value): Linear(in_features=768, out_features=768, bias=False)\n",
      "    (out_proj): Linear(in_features=768, out_features=768, bias=True)\n",
      "    (dropout): Dropout(p=0.1, inplace=False)\n",
      "  )\n",
      "  (ff): FeedForward(\n",
      "    (layers): Sequential(\n",
      "      (0): Linear(in_features=768, out_features=3072, bias=True)\n",
      "      (1): GELU()\n",
      "      (2): Linear(in_features=3072, out_features=768, bias=True)\n",
      "    )\n",
      "  )\n",
      "  (norm1): LayerNorm()\n",
      "  (norm2): LayerNorm()\n",
      "  (drop_shortcut): Dropout(p=0.1, inplace=False)\n",
      ")\n",
      "2360064\n",
      "4722432\n"
     ]
    }
   ],
   "source": [
    "# 计算 一个 transformer block中多头注意力模块和FFN模块的参数量\n",
    "transformer_block = TransformerBlock(GPT_CONFIG_124M)\n",
    "print(transformer_block)#输出transformer block的结构\n",
    "\n",
    "# 计算多头注意力模块的参数量\n",
    "mha_params = sum(p.numel() for p in transformer_block.att.parameters())\n",
    "print(mha_params)\n",
    "\n",
    "# 计算前向传播网络模块的参数量\n",
    "ffn_params = sum(p.numel() for p in transformer_block.ff.parameters())\n",
    "print(ffn_params)"
   ]
  },
  {
   "cell_type": "markdown",
   "id": "18e7a845",
   "metadata": {},
   "source": [
    "1.上述一个transformer block参数量计算的过程：\n",
    "<div align=\"center\" >\n",
    "    <img src=\"./images/transformer_block参数量计算过程.jpg\">\n",
    "</div>\n",
    "\n",
    "2.Linear层参数量计算方式\n",
    "<div align=\"center\">\n",
    "    <img src=\"./images/Linear层参数量计算方式.jpg\">\n",
    "</div>"
   ]
  },
  {
   "cell_type": "markdown",
   "id": "95e0e871",
   "metadata": {},
   "source": [
    "\n",
    "### 练习4.2 不同size的GPT-2"
   ]
  },
  {
   "cell_type": "code",
   "execution_count": 44,
   "id": "dca8d97d",
   "metadata": {},
   "outputs": [],
   "source": [
    "'''不同大小模型的参数设置'''\n",
    "GPT_CONFIG_124M = {\n",
    "    \"vocab_size\": 50257,\n",
    "    \"context_length\": 1024,\n",
    "    \"emb_dim\": 768,\n",
    "    \"n_heads\": 12,\n",
    "    \"n_layers\": 12,\n",
    "    \"drop_rate\": 0.1,\n",
    "    \"qkv_bias\": False\n",
    "}\n",
    "\n",
    "\n",
    "def get_config(base_config, model_name=\"gpt2-small\"):\n",
    "    GPT_CONFIG = base_config.copy()\n",
    "\n",
    "    if model_name == \"gpt2-small\":\n",
    "        GPT_CONFIG[\"emb_dim\"] = 768\n",
    "        GPT_CONFIG[\"n_layers\"] = 12\n",
    "        GPT_CONFIG[\"n_heads\"] = 12\n",
    "\n",
    "    elif model_name == \"gpt2-medium\":\n",
    "        GPT_CONFIG[\"emb_dim\"] = 1024\n",
    "        GPT_CONFIG[\"n_layers\"] = 24\n",
    "        GPT_CONFIG[\"n_heads\"] = 16\n",
    "\n",
    "    elif model_name == \"gpt2-large\":\n",
    "        GPT_CONFIG[\"emb_dim\"] = 1280\n",
    "        GPT_CONFIG[\"n_layers\"] = 36\n",
    "        GPT_CONFIG[\"n_heads\"] = 20\n",
    "\n",
    "    elif model_name == \"gpt2-xl\":\n",
    "        GPT_CONFIG[\"emb_dim\"] = 1600\n",
    "        GPT_CONFIG[\"n_layers\"] = 48\n",
    "        GPT_CONFIG[\"n_heads\"] = 25\n",
    "\n",
    "    else:\n",
    "        raise ValueError(f\"Incorrect model name {model_name}\")\n",
    "\n",
    "    return GPT_CONFIG\n"
   ]
  },
  {
   "cell_type": "code",
   "execution_count": 45,
   "id": "4e94b105",
   "metadata": {},
   "outputs": [],
   "source": [
    "'''计算模型的 size'''\n",
    "def calculate_size(model): # based on chapter code\n",
    "    \n",
    "    total_params = sum(p.numel() for p in model.parameters())\n",
    "    print(f\"Total number of parameters: {total_params:,}\")\n",
    "\n",
    "    total_params_gpt2 =  total_params - sum(p.numel() for p in model.out_head.parameters())\n",
    "    print(f\"Number of trainable parameters considering weight tying: {total_params_gpt2:,}\")\n",
    "    \n",
    "    # Calculate the total size in bytes (assuming float32, 4 bytes per parameter)\n",
    "    total_size_bytes = total_params * 4\n",
    "    \n",
    "    # Convert to megabytes\n",
    "    total_size_mb = total_size_bytes / (1024 * 1024)\n",
    "    \n",
    "    print(f\"Total size of the model: {total_size_mb:.2f} MB\")"
   ]
  },
  {
   "cell_type": "code",
   "execution_count": 46,
   "id": "06e5a6c4",
   "metadata": {},
   "outputs": [
    {
     "name": "stdout",
     "output_type": "stream",
     "text": [
      "\n",
      "\n",
      "gpt2-small:\n",
      "Total number of parameters: 163,009,536\n",
      "Number of trainable parameters considering weight tying: 124,412,160\n",
      "Total size of the model: 621.83 MB\n",
      "\n",
      "\n",
      "gpt2-medium:\n",
      "Total number of parameters: 406,212,608\n",
      "Number of trainable parameters considering weight tying: 354,749,440\n",
      "Total size of the model: 1549.58 MB\n",
      "\n",
      "\n",
      "gpt2-large:\n",
      "Total number of parameters: 838,220,800\n",
      "Number of trainable parameters considering weight tying: 773,891,840\n",
      "Total size of the model: 3197.56 MB\n",
      "\n",
      "\n",
      "gpt2-xl:\n",
      "Total number of parameters: 1,637,792,000\n",
      "Number of trainable parameters considering weight tying: 1,557,380,800\n",
      "Total size of the model: 6247.68 MB\n"
     ]
    }
   ],
   "source": [
    "for model_abbrev in (\"small\", \"medium\", \"large\", \"xl\"):\n",
    "    model_name = f\"gpt2-{model_abbrev}\"\n",
    "    CONFIG = get_config(GPT_CONFIG_124M, model_name=model_name)\n",
    "    model = GPTModel(CONFIG)\n",
    "    print(f\"\\n\\n{model_name}:\")\n",
    "    calculate_size(model)"
   ]
  }
 ],
 "metadata": {
  "kernelspec": {
   "display_name": "pytorch",
   "language": "python",
   "name": "python3"
  },
  "language_info": {
   "codemirror_mode": {
    "name": "ipython",
    "version": 3
   },
   "file_extension": ".py",
   "mimetype": "text/x-python",
   "name": "python",
   "nbconvert_exporter": "python",
   "pygments_lexer": "ipython3",
   "version": "3.9.19"
  }
 },
 "nbformat": 4,
 "nbformat_minor": 5
}
